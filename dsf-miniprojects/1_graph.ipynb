{
 "cells": [
  {
   "cell_type": "markdown",
   "metadata": {
    "slideshow": null
   },
   "source": [
    "# The New York Social Graph\n"
   ]
  },
  {
   "cell_type": "markdown",
   "metadata": {
    "slideshow": null
   },
   "source": [
    "[New York Social Diary](https://web.archive.org/web/20150913224145/http://www.newyorksocialdiary.com/) provides a\n",
    "fascinating lens onto New York's socially well-to-do.  The data forms a natural [social graph](https://en.wikipedia.org/wiki/Social_graph) for New York's social elite.  Take a look at this page of a recent [run-of-the-mill holiday party](https://web.archive.org/web/20150913224145/http://www.newyorksocialdiary.com/party-pictures/2014/holiday-dinners-and-doers). Please note that these links point to the internet archive, as the original website has recently removed most of its archives. Many of the images no longer load, but all the HTML is still there.\n",
    "\n",
    "Besides the brand-name celebrities, you will notice the photos have carefully annotated captions labeling those that appear in the photos.  We can think of this as implicitly implying a social graph: there is a connection between two individuals if they appear in a picture together.\n",
    "\n",
    "For this project, we will assemble the social graph from photo captions for parties dated December 1, 2014, and before.  Using this graph, we can make guesses at the most popular socialites, the most influential people, and the most tightly coupled pairs.\n",
    "\n",
    "We will attack the project in three phases:\n",
    "1. Get a list of all the photo pages to be analyzed.\n",
    "2. Parse all of the captions on a sample page.\n",
    "3. Parse all of the captions on all pages, and assemble the graph."
   ]
  },
  {
   "cell_type": "markdown",
   "metadata": {
    "slideshow": null
   },
   "source": [
    "## Phase One\n"
   ]
  },
  {
   "cell_type": "markdown",
   "metadata": {
    "slideshow": null
   },
   "source": [
    "The first step is to crawl the data.  We want photos from parties on or before December 1st, 2014.  Go to the [Party Pictures Archive](https://web.archive.org/web/20150913224145/http://www.newyorksocialdiary.com/party-pictures) to see a list of (party) pages.  We want to get the url for each party page, along with its date.\n",
    "\n",
    "Here are some packages that you may find useful.  You are welcome to use others, if you prefer."
   ]
  },
  {
   "cell_type": "code",
   "execution_count": 3,
   "metadata": {
    "slideshow": null
   },
   "outputs": [],
   "source": [
    "import requests\n",
    "import dill\n",
    "from bs4 import BeautifulSoup\n",
    "from datetime import datetime"
   ]
  },
  {
   "cell_type": "markdown",
   "metadata": {
    "slideshow": null
   },
   "source": [
    "We recommend using Python [Requests](http://docs.python-requests.org/en/master/) to download the HTML pages, and [BeautifulSoup](https://www.crummy.com/software/BeautifulSoup/) to process the HTML.  Let's start by getting the [first page](https://web.archive.org/web/20150913224145/http://www.newyorksocialdiary.com/party-pictures)."
   ]
  },
  {
   "cell_type": "code",
   "execution_count": 4,
   "metadata": {
    "slideshow": null
   },
   "outputs": [
    {
     "name": "stdout",
     "output_type": "stream",
     "text": [
      "| STATUS | 200 | OK\n",
      "\n",
      "https://web.archive.org/web/20150913224145/http://www.newyorksocialdiary.com/party-pictures\n",
      "\n",
      "<!DOCTYPE html>\n",
      "  <!--[if IEMobile 7]><html class=\"no-js ie iem7\" lang=\"en\" dir=\"ltr\"><![endif]-->\n",
      "  <!--[if lte IE 6]><html class=\"no-js ie lt-ie9 lt-ie8 lt-ie7\" lang=\"en\" dir=\"ltr\"><![endif]-->\n",
      "  <!--[if (IE 7)&(!IEMobile)]><html class=\"no-js ie lt-ie9 lt-ie8\" lang=\"en\" dir=\"ltr\"><![endif]-->\n",
      "  <!--[if IE 8]><html class=\"no-js ie lt-ie9\" lang=\"en\" dir=\"ltr\"><![endif]-->\n",
      "  <!--[if (gte IE 9)|(gt IEMobile 7)]><html class=\"no-js ie\" lang=\"en\" dir=\"ltr\" prefix=\"fb: http://ogp.me/ns/fb# og: http://ogp.me/ns# article: http://ogp.me/ns/article# book: http://ogp.me/ns/book# profile: http://ogp.me/ns/profile# video: http://ogp.me/ns/video# product: http://ogp.me/ns/product#\"><![endif]-->\n",
      "  <!--[if !IE]><!--><html class=\"no-js\" lang=\"en\" dir=\"ltr\" prefix=\"fb: http://ogp.me/ns/fb# og: http://ogp.me/ns# article: http://ogp.me/ns/article# book: http://ogp.me/ns/book# profile: http://ogp.me/ns/profile# video: http://ogp.me/ns/video# product: http://ogp.me/ns/product#\"><!--<![endif]-->\n",
      "<head><scrip ... \n"
     ]
    }
   ],
   "source": [
    "# Use requests.get to download the page.\n",
    "\n",
    "page_url = \"https://web.archive.org/web/20150913224145/http://www.newyorksocialdiary.com/party-pictures\"\n",
    "\n",
    "page_response = requests.get(page_url)\n",
    "\n",
    "resp_code = page_response.status_code\n",
    "resp_reason = page_response.reason\n",
    "\n",
    "print('| STATUS | ' + str(resp_code) + ' | ' + str(resp_reason) + '\\n')\n",
    "\n",
    "if resp_code == 200:\n",
    "    print(page_response.url+'\\n')\n",
    "    print(page_response.text[:1000] + \" ... \") # print first 1000 char of html page code\n",
    "else:\n",
    "    print('Page DID NOT load properly! NYSD Archive Page is temporarily misbehaving.')"
   ]
  },
  {
   "cell_type": "markdown",
   "metadata": {
    "slideshow": null
   },
   "source": [
    "Now, we process the text of the page with BeautifulSoup."
   ]
  },
  {
   "cell_type": "code",
   "execution_count": 5,
   "metadata": {
    "slideshow": null
   },
   "outputs": [
    {
     "name": "stdout",
     "output_type": "stream",
     "text": [
      "<!DOCTYPE html>\n",
      "<!--[if IEMobile 7]><html class=\"no-js ie iem7\" lang=\"en\" dir=\"ltr\"><![endif]-->\n",
      "<!--[if lte IE 6]><html class=\"no-js ie lt-ie9 lt-ie8 lt-ie7\" lang=\"en\" dir=\"ltr\"><![endif]-->\n",
      "<!--[if (IE 7)&(!IEMobile)]><html class=\"no-js ie lt-ie9 lt-ie8\" lang=\"en\" dir=\"ltr\"><![endif]-->\n",
      "<!--[if IE 8]><html class=\"no-js ie lt-ie9\" lang=\"en\" dir=\"ltr\"><![endif]-->\n",
      "<!--[if (gte IE 9)|(gt IEMobile 7)]><html class=\"no-js ie\" lang=\"en\" dir=\"ltr\" prefix=\"fb: http://ogp.me/ns/fb# og: http://ogp.me/ns# article: http://ogp.me/ns/article# book: http://ogp.me/ns/book# profile: http://ogp.me/ns/profile# video: http://ogp.me/ns/video# product: http://ogp.me/ns/product#\"><![endif]-->\n",
      "<!--[if !IE]><!-->\n",
      "<html class=\"no-js\" dir=\"ltr\" lang=\"en\" prefix=\"fb: http://ogp.me/ns/fb# og: http://ogp.me/ns# article: http://ogp.me/ns/article# book: http://ogp.me/ns/book# profile: http://ogp.me/ns/profile# video: http://ogp.me/ns/video# product: http://ogp.me/ns/product#\">\n",
      " <!--<![endif]-->\n",
      " <head>\n",
      "  <script src=\"//archive.org/includes/analytics.js?v=cf34f82\" type=\"text/javascript\">\n",
      "  </script>\n",
      "  <script type=\"text/javascript\">\n",
      "   window.addEventListener('DOMContentLoaded',function(){var v=archive_analytics.values;v.service='wb';v.server_name='wwwb-app226.us.archive.org';v.server_ms=716;archive_analytics.send_pageview({});});\n",
      "  </script>\n",
      "  <script charset=\"utf-8\" src=\"/_static/js/bundle-playback.js?v=rQCmsv02\" type=\"text/javascript\">\n",
      "  </script>\n",
      "  <script charset=\"utf-8\" src=\"/_static/js/wombat.js?v=UHAOicsW\" type=\"text/javascript\">\n",
      "  </script>\n",
      "  <script type=\"text/javascript\">\n",
      "   __wm.init(\"https://web.archive.org/web\");\n",
      "  __wm.wombat(\"http://www.newyorksocialdiary.com:80/party-pictures\",\"20150913224145\",\"https://web.archive.org/\",\"web\",\"/_static/\",\n",
      "\t      \"1442184105\");\n",
      "  </script>\n",
      "  <link href=\"/_static/css/banner-styles.css?v=fantwOh2\" rel=\"stylesheet\" type=\"text/css\"/>\n",
      "  <link href=\"/_static/css/iconochive.css?v=qtvMKcIJ\" rel=\"stylesheet\" type=\"text/css\"/>\n",
      "  <!-- End Wayback Rewrite JS Include -->\n",
      "  <title>\n",
      "   Party Pictures Archive | New York Social Diary\n",
      "  </title>\n",
      "  <meta charset=\"utf-8\"/>\n",
      "  <link href=\"https://web.archive.org/web/20150913224145im_/http://www.newyorksocialdiary.com/sites/all/themes/omega_nysd/favicon.ico\" rel=\"shortcut icon\" type=\"image/vnd.microsoft.icon\"/>\n",
      "  <link href=\"https://web.archive.org/web/20150913224145im_/http://www.newyorksocialdiary.com/sites/all/themes/omega_nysd/apple-touch-icon-precomposed-114x114.png\" rel=\"apple-touch-icon-precomposed\" sizes=\"114x114\"/>\n",
      "  <link href=\"http://www.w3.org/1999/xhtml/vocab\" rel=\"profile\"/>\n",
      "  <link href=\"https://web.archive.org/web/20150913224145im_/http://www.newyorksocialdiary.com/sites/all/themes/omega_nysd/apple-touch-icon-precomposed.png\" rel=\"apple-touch-icon-precomposed\"/>\n",
      "  <meta content=\"width\" name=\"MobileOptimized\"/>\n",
      "  <meta content=\"on\" http-equiv=\"cleartype\"/>\n",
      "  <link href=\"https://web.archive.org/web/20150913224145im_/http://www.newyorksocialdiary.com/sites/all/themes/omega_nysd/apple-touch-icon-precomposed-144x144.png\" rel=\"apple-touch-icon-precomposed\" sizes=\"144x144\"/>\n",
      "  <meta content=\"true\" name=\"HandheldFriendly\"/>\n",
      "  <link href=\"https://web.archive.org/web/20150913224145im_/http://www.newyorksocialdiary.com/sites/all/themes/omega_nysd/apple-touch-icon-precomposed-72x72.png\" rel=\"apple-touch-icon-precomposed\" sizes=\"72x72\"/>\n",
      "  <meta content=\"Drupal 7 (http://drupal.org)\" name=\"generator\"/>\n",
      "  <link href=\"https://web.archive.org/web/20150913224145im_/http://www.newyorksocialdiary.com/files/_categories/party_pics.jpg\" rel=\"image_src\"/>\n",
      "  <meta content=\"width=device-width\" name=\"viewport\"/>\n",
      "  <link href=\"https://web.archive.org/web/20150913224145/http://www.newyorksocialdiary.com/party-pictures\" rel=\"canonical\"/>\n",
      "  <link href=\"https://web.archive.org/web/20150913224145/http://www.newyorksocialdiary.com/taxonomy/term/59\" rel=\"shortlink\"/>\n",
      "  <meta content=\"New York Social Diary\" property=\"og:site_name\"/>\n",
      "  <meta content=\"article\" property=\"og:type\"/>\n",
      "  <meta content=\"https://web.archive.org/web/20150913224145/http://www.newyorksocialdiary.com/party-pictures\" property=\"og:url\"/>\n",
      "  <meta content=\"Party Pictures\" property=\"og:title\"/>\n",
      "  <meta content=\"https://web.archive.org/web/20150913224145im_/http://www.newyorksocialdiary.com/files/_categories/party_pics.jpg\" property=\"og:image\"/>\n",
      "  <meta content=\"summary\" name=\"twitter:card\"/>\n",
      "  <meta content=\"https://web.archive.org/web/20150913224145im_/http://www.newyorksocialdiary.com/party-pictures\" name=\"twitter:url\"/>\n",
      "  <meta content=\"Party Pictures\" name=\"twitter:title\"/>\n",
      "  <meta content=\"http://www.newyorksocialdiary.com/files/_categories/party_pics.jpg\" name=\"twitter:image:src\"/>\n",
      "  <meta content=\"GkekkRSFGemxLIt7se-185MKwha5Nrdp-Wj9fJYkoZQ\" name=\"google-site-verification\"/>\n",
      "  <style>\n",
      "   @import url(\"https://web.archive.org/web/20150913224145cs_/http://www.newyorksocialdiary.com/sites/all/themes/omega/omega/css/modules/system/system.base.css?ntegyz\");\n",
      "@import url(\"https://web.archive.org/web/20150913224145cs_/http://www.newyorksocialdiary.com/sites/all/themes/omega/omega/css/modules/system/system.menus.theme.css?ntegyz\");\n",
      "@import url(\"https://web.archive.org/web/20150913224145cs_/http://www.newyorksocialdiary.com/sites/all/themes/omega/omega/css/modules/system/system.messages.theme.css?ntegyz\");\n",
      "@import url(\"https://web.archive.org/web/20150913224145cs_/http://www.newyorksocialdiary.com/sites/all/themes/omega/omega/css/modules/system/system.theme.css?ntegyz\");\n",
      "@import url(\"https://web.archive.org/web/20150913224145cs_/http://www.newyorksocialdiary.com/sites/all/modules/contrib/adaptive_image/css/adaptive-image.css?ntegyz\");\n",
      "@import url(\"https://web.archive.org/web/20150913224145cs_/http://www.newyorksocialdiary.com/sites/all/modules/contrib/date/date_api/date.css?ntegyz\");\n",
      "@import url(\"https://web.archive.org/web/20150913224145cs_/http://www.newyorksocialdiary.com/sites/all/themes/omega/omega/css/modules/field/field.theme.css?ntegyz\");\n",
      "@import url(\"https://web.archive.org/web/20150913224145cs_/http://www.newyorksocialdiary.com/modules/node/node.css?ntegyz\");\n",
      "@import url(\"https://web.archive.org/web/20150913224145cs_/http://www.newyorksocialdiary.com/sites/all/themes/omega/omega/css/modules/user/user.theme.css?ntegyz\");\n",
      "@import url(\"https://web.archive.org/web/20150913224145cs_/http://www.newyorksocialdiary.com/sites/all/themes/omega/omega/css/modules/user/user.base.css?ntegyz\");\n",
      "@import url(\"https://web.archive.org/web/20150913224145cs_/http://www.newyorksocialdiary.com/sites/all/modules/contrib/views/css/views.css?ntegyz\");\n",
      "@import url(\"https://web.archive.org/web/20150913224145cs_/http://www.newyorksocialdiary.com/sites/all/modules/contrib/ckeditor/css/ckeditor.css?ntegyz\");\n",
      "  </style>\n",
      "  <style>\n",
      "   @import url(\"https://web.archive.org/web/20150913224145cs_/http://www.newyorksocialdiary.com/sites/all/modules/contrib/ctools/css/ctools.css?ntegyz\");\n",
      "@import url(\"https://web.archive.org/web/20150913224145cs_/http://www.newyorksocialdiary.com/sites/all/modules/contrib/panels/css/panels.css?ntegyz\");\n",
      "@import url(\"https://web.archive.org/web/20150913224145cs_/http://www.newyorksocialdiary.com/sites/all/modules/contrib/panels/plugins/layouts/onecol/onecol.css?ntegyz\");\n",
      "@import url(\"https://web.archive.org/web/20150913224145cs_/http://www.newyorksocialdiary.com/sites/all/modules/contrib/nice_menus/css/nice_menus.css?ntegyz\");\n",
      "  </style>\n",
      "  <style>\n",
      "   @import url(\"https://web.archive.org/web/20150913224145cs_/http://www.newyorksocialdiary.com/sites/all/themes/omega_nysd/css/omega-nysd.normalize.css?ntegyz\");\n",
      "@import url(\"https://web.archive.org/web/20150913224145cs_/http://www.newyorksocialdiary.com/sites/all/themes/omega_nysd/css/omega-nysd.hacks.css?ntegyz\");\n",
      "@import url(\"https://web.archive.org/web/20150913224145cs_/http://www.newyorksocialdiary.com/sites/all/themes/omega_nysd/css/omega-nysd.styles.css?ntegyz\");\n",
      "  </style>\n",
      "  <!--[if lte IE 8]>\n",
      "<style>\n",
      "@import url(\"http://www.newyorksocialdiary.com/sites/all/themes/omega_nysd/css/omega-nysd.no-query.css?ntegyz\");\n",
      "</style>\n",
      "<![endif]-->\n",
      "  <style>\n",
      "   @import url(\"https://web.archive.org/web/20150913224145cs_/http://www.newyorksocialdiary.com/sites/all/themes/omega_nysd/css/layouts/nysd_legacy/nysd_legacy.layout.css?ntegyz\");\n",
      "  </style>\n",
      "  <!--[if lte IE 8]>\n",
      "<style>\n",
      "@import url(\"http://www.newyorksocialdiary.com/sites/all/themes/omega_nysd/css/layouts/nysd_legacy/nysd_legacy.layout.no-query.css?ntegyz\");\n",
      "</style>\n",
      "<![endif]-->\n",
      "  <script>\n",
      "   document.cookie = 'adaptive_image=' + Math.max(screen.width, screen.height) + '; path=/';\n",
      "  </script>\n",
      "  <script src=\"https://web.archive.org/web/20150913224145js_/http://www.newyorksocialdiary.com/misc/jquery.js?v=1.4.4\">\n",
      "  </script>\n",
      "  <script src=\"https://web.archive.org/web/20150913224145js_/http://www.newyorksocialdiary.com/misc/jquery.once.js?v=1.2\">\n",
      "  </script>\n",
      "  <script src=\"https://web.archive.org/web/20150913224145js_/http://www.newyorksocialdiary.com/misc/drupal.js?ntegyz\">\n",
      "  </script>\n",
      "  <script src=\"https://web.archive.org/web/20150913224145js_/http://www.newyorksocialdiary.com/sites/all/themes/omega/omega/js/no-js.js?ntegyz\">\n",
      "  </script>\n",
      "  <script src=\"https://web.archive.org/web/20150913224145js_/http://www.newyorksocialdiary.com/sites/all/modules/contrib/nice_menus/js/jquery.bgiframe.js?v=2.1\">\n",
      "  </script>\n",
      "  <script src=\"https://web.archive.org/web/20150913224145js_/http://www.newyorksocialdiary.com/sites/all/modules/contrib/nice_menus/js/jquery.hoverIntent.js?v=0.5\">\n",
      "  </script>\n",
      "  <script src=\"https://web.archive.org/web/20150913224145js_/http://www.newyorksocialdiary.com/sites/all/modules/contrib/nice_menus/js/superfish.js?v=1.4.8\">\n",
      "  </script>\n",
      "  <script src=\"https://web.archive.org/web/20150913224145js_/http://www.newyorksocialdiary.com/sites/all/modules/contrib/nice_menus/js/nice_menus.js?v=1.0\">\n",
      "  </script>\n",
      "  <script src=\"https://web.archive.org/web/20150913224145js_/http://www.newyorksocialdiary.com/sites/all/modules/contrib/google_analytics/googleanalytics.js?ntegyz\">\n",
      "  </script>\n",
      "  <script>\n",
      "   (function(i,s,o,g,r,a,m){i[\"GoogleAnalyticsObject\"]=r;i[r]=i[r]||function(){(i[r].q=i[r].q||[]).push(arguments)},i[r].l=1*new Date();a=s.createElement(o),m=s.getElementsByTagName(o)[0];a.async=1;a.src=g;m.parentNode.insertBefore(a,m)})(window,document,\"script\",\"//web.archive.org/web/20150913224145/http://www.google-analytics.com/analytics.js\",\"ga\");ga(\"create\", \"UA-1286231-1\", {\"cookieDomain\":\"auto\"});ga(\"set\", \"anonymizeIp\", true);ga(\"send\", \"pageview\");\n",
      "  </script>\n",
      "  <script src=\"https://web.archive.org/web/20150913224145js_/http://s7.addthis.com/js/300/addthis_widget.js#pubid=ra-4dbf033c3fad3d6b\">\n",
      "  </script>\n",
      "  <script src=\"https://web.archive.org/web/20150913224145js_/http://www.newyorksocialdiary.com/sites/all/themes/omega_nysd/js/jquery.columnizer.js?ntegyz\">\n",
      "  </script>\n",
      "  <script src=\"https://web.archive.org/web/20150913224145js_/http://www.newyorksocialdiary.com/sites/all/themes/omega_nysd/js/omega-nysd.behaviors.js?ntegyz\">\n",
      "  </script>\n",
      "  <script>\n",
      "   jQuery.extend(Drupal.settings, {\"basePath\":\"\\/\",\"pathPrefix\":\"\",\"googleanalytics\":{\"trackOutbound\":1,\"trackMailto\":1,\"trackDownload\":1,\"trackDownloadExtensions\":\"7z|aac|arc|arj|asf|asx|avi|bin|csv|doc(x|m)?|dot(x|m)?|exe|flv|gif|gz|gzip|hqx|jar|jpe?g|js|mp(2|3|4|e?g)|mov(ie)?|msi|msp|pdf|phps|png|ppt(x|m)?|pot(x|m)?|pps(x|m)?|ppam|sld(x|m)?|thmx|qtm?|ra(m|r)?|sea|sit|tar|tgz|torrent|txt|wav|wma|wmv|wpd|xls(x|m|b)?|xlt(x|m)|xlam|xml|z|zip\"},\"nice_menus_options\":{\"delay\":800,\"speed\":\"slow\"},\"urlIsAjaxTrusted\":{\"\\/party-pictures\":true}});\n",
      "  </script>\n",
      " </head>\n",
      " <body class=\"html not-front not-logged-in page-taxonomy page-taxonomy-term page-taxonomy-term- page-taxonomy-term-59 section-party-pictures\">\n",
      "  <a class=\"element-invisible element-focusable\" href=\"#main-content\">\n",
      "   Skip to main content\n",
      "  </a>\n",
      "  <div class=\"l-page has-one-sidebar has-sidebar\">\n",
      "   <div class=\"l-page-prefix\">\n",
      "    <div class=\"l-region l-region--page-prefix\">\n",
      "     <div class=\"panel-pane pane-custom pane-1\">\n",
      "      <div class=\"email-subscribe\">\n",
      "       <form action=\"https://web.archive.org/web/20150913224145/http://members.newyorksocialdiary.com/subscribe/subscribe.tml\" method=\"POST\">\n",
      "        <input class=\"email\" name=\"email\" onblur=\"if(this.value == '') { this.value = 'Subscribe to NYSD'; }\" onfocus=\"if(this.value == 'Subscribe to NYSD') { this.value = ''; }\" type=\"text\" value=\"Subscribe to NYSD\"/>\n",
      "        <input class=\"subscribe\" name=\"subscribe\" type=\"submit\" value=\"GO\"/>\n",
      "        <input name=\"list\" type=\"hidden\" value=\"nysdsubscribers\"/>\n",
      "        <input name=\"confirm\" type=\"hidden\" value=\"none\"/>\n",
      "        <input name=\"showconfirm\" type=\"hidden\" value=\"F\"/>\n",
      "        <input name=\"url\" type=\"hidden\" value=\"http://www.newyorksocialdiary.com\"/>\n",
      "        <input name=\"appendsubinfotourl\" type=\"hidden\" value=\"T\"/>\n",
      "       </form>\n",
      "      </div>\n",
      "     </div>\n",
      "     <div class=\"panel-pane pane-ad pane-12 adverserve-ad advertserve-12\">\n",
      "      <!-- BEGIN ADVERTPRO CODE BLOCK -->\n",
      "      <script type=\"text/javascript\">\n",
      "       document.write('<scr' + 'ipt src=\"https://web.archive.org/web/20150913224145/http://newyorksocialdiary.advertserve.com/servlet/view/banner/javascript/zone?zid=12&pid=0&random=' + Math.floor(89999999 * Math.random() + 10000000) + '&millis=' + new Date().getTime() + '&referrer=' + encodeURIComponent(document.location) + '\" type=\"text/javascript\"></scr' + 'ipt>');\n",
      "      </script>\n",
      "      <!-- END ADVERTPRO CODE BLOCK -->\n",
      "     </div>\n",
      "    </div>\n",
      "   </div>\n",
      "   <header class=\"l-header\" role=\"banner\">\n",
      "    <div class=\"l-constrained\">\n",
      "     <div class=\"l-branding site-branding\">\n",
      "      <div class=\"l-region l-region--branding\">\n",
      "       <div class=\"panel-pane pane-page-logo\">\n",
      "        <a href=\"/web/20150913224145/http://www.newyorksocialdiary.com/\" id=\"logo\" rel=\"home\" title=\"Home\">\n",
      "         <img alt=\"Home\" src=\"https://web.archive.org/web/20150913224145im_/http://www.newyorksocialdiary.com/sites/all/themes/omega_nysd/nysd_weblogo_final.gif\"/>\n",
      "        </a>\n",
      "       </div>\n",
      "      </div>\n",
      "     </div>\n",
      "    </div>\n",
      "   </header>\n",
      "   <div class=\"l-main l-constrained\">\n",
      "    <div class=\"l-region l-region--navigation\">\n",
      "     <div class=\"panel-pane pane-block pane-nice-menus-1\">\n",
      "      <ul class=\"nice-menu nice-menu-down nice-menu-main-menu\" id=\"nice-menu-1\">\n",
      "       <li class=\"menu-1227 menu-path-node-134656 first odd\">\n",
      "        <a href=\"/web/20150913224145/http://www.newyorksocialdiary.com/nysd/socialdiarysectional\">\n",
      "         Social Diary\n",
      "        </a>\n",
      "       </li>\n",
      "       <li class=\"menu-1215 menu-path-node-1912772 even\">\n",
      "        <a href=\"/web/20150913224145/http://www.newyorksocialdiary.com/nysd/partypictures\" title=\"\">\n",
      "         Party Pictures\n",
      "        </a>\n",
      "       </li>\n",
      "       <li class=\"menu-1104 menuparent menu-path-front odd\">\n",
      "        <a href=\"/web/20150913224145/http://www.newyorksocialdiary.com/\" title=\"\">\n",
      "         Diary Features\n",
      "        </a>\n",
      "        <ul>\n",
      "         <li class=\"menu-1216 menu-path-node-1912773 first odd\">\n",
      "          <a href=\"/web/20150913224145/http://www.newyorksocialdiary.com/nysd/guestdiary\">\n",
      "           Guest Diaries\n",
      "          </a>\n",
      "         </li>\n",
      "         <li class=\"menu-1234 menu-path-node-1912778 even\">\n",
      "          <a href=\"/web/20150913224145/http://www.newyorksocialdiary.com/nysd/nysdhouse\">\n",
      "           House\n",
      "          </a>\n",
      "         </li>\n",
      "         <li class=\"menu-1219 menu-path-node-1912777 odd\">\n",
      "          <a href=\"/web/20150913224145/http://www.newyorksocialdiary.com/nysd/across\">\n",
      "           Across the Nation\n",
      "          </a>\n",
      "         </li>\n",
      "         <li class=\"menu-1218 menu-path-node-1912774 even\">\n",
      "          <a href=\"/web/20150913224145/http://www.newyorksocialdiary.com/nysd/socialhistory\">\n",
      "           Social History\n",
      "          </a>\n",
      "         </li>\n",
      "         <li class=\"menu-1223 menu-path-node-1912775 odd\">\n",
      "          <a href=\"/web/20150913224145/http://www.newyorksocialdiary.com/nysd/dining\">\n",
      "           Dining\n",
      "          </a>\n",
      "         </li>\n",
      "         <li class=\"menu-1235 menu-path-node-1912779 even\">\n",
      "          <a href=\"/web/20150913224145/http://www.newyorksocialdiary.com/nysd/travel\">\n",
      "           Travel\n",
      "          </a>\n",
      "         </li>\n",
      "         <li class=\"menu-1220 menu-path-node-1912776 odd\">\n",
      "          <a href=\"/web/20150913224145/http://www.newyorksocialdiary.com/nysd/artset\">\n",
      "           Art Set\n",
      "          </a>\n",
      "         </li>\n",
      "         <li class=\"menu-1063 menu-path-taxonomy-term-57 even last\">\n",
      "          <a href=\"/web/20150913224145/http://www.newyorksocialdiary.com/nysd/thelist\">\n",
      "           The List / Cameo\n",
      "          </a>\n",
      "         </li>\n",
      "        </ul>\n",
      "       </li>\n",
      "       <li class=\"menu-1061 menu-path-calendar even\">\n",
      "        <a href=\"/web/20150913224145/http://www.newyorksocialdiary.com/calendar\" title=\"\">\n",
      "         Calendar\n",
      "        </a>\n",
      "       </li>\n",
      "       <li class=\"menu-1217 menu-path-node-283 odd\">\n",
      "        <a href=\"/web/20150913224145/http://www.newyorksocialdiary.com/nysd/archives\">\n",
      "         Archives\n",
      "        </a>\n",
      "       </li>\n",
      "       <li class=\"menu-1359 menuparent menu-path-front even last\">\n",
      "        <a href=\"/web/20150913224145/http://www.newyorksocialdiary.com/\">\n",
      "         NYSD Beauty\n",
      "        </a>\n",
      "        <ul>\n",
      "         <li class=\"menu-1360 menu-path-node-1913645 first odd\">\n",
      "          <a href=\"/web/20150913224145/http://www.newyorksocialdiary.com/beauty-wellness/2015/beauty-and-wellness\" title=\"Find out about beauty and wellness in NYC.\">\n",
      "           Beauty &amp; Wellness\n",
      "          </a>\n",
      "         </li>\n",
      "         <li class=\"menu-1361 menu-path-nysd-beauty even last\">\n",
      "          <a href=\"/web/20150913224145/http://www.newyorksocialdiary.com/nysd-beauty\" target=\"_blank\" title=\"See the selection of wonderful beauty products.\">\n",
      "           Beauty Shop\n",
      "          </a>\n",
      "         </li>\n",
      "        </ul>\n",
      "       </li>\n",
      "      </ul>\n",
      "     </div>\n",
      "     <div class=\"panel-pane pane-block pane-search-api-page-default\">\n",
      "      <form accept-charset=\"UTF-8\" action=\"/web/20150913224145/http://www.newyorksocialdiary.com/party-pictures\" class=\"search-api-page-search-form-default\" id=\"search-api-page-search-form-default\" method=\"post\">\n",
      "       <div>\n",
      "        <div class=\"form-item form-type-textfield form-item-keys-1\">\n",
      "         <label class=\"element-invisible\" for=\"edit-keys-1\">\n",
      "          Type name or keyword\n",
      "         </label>\n",
      "         <input class=\"form-text\" id=\"edit-keys-1\" maxlength=\"128\" name=\"keys_1\" placeholder=\"Type name or keyword\" size=\"15\" type=\"text\" value=\"\"/>\n",
      "        </div>\n",
      "        <input name=\"id\" type=\"hidden\" value=\"1\"/>\n",
      "        <input class=\"form-submit\" id=\"edit-submit-1\" name=\"op\" type=\"submit\" value=\"Search\"/>\n",
      "        <input name=\"form_build_id\" type=\"hidden\" value=\"form-DwyBI7mexN4MqdpRn1X5EDWnSSGStCG3gsf3m-SzKsg\"/>\n",
      "        <input name=\"form_id\" type=\"hidden\" value=\"search_api_page_search_form_default\"/>\n",
      "       </div>\n",
      "      </form>\n",
      "     </div>\n",
      "    </div>\n",
      "    <a id=\"main-content\">\n",
      "    </a>\n",
      "    <div class=\"l-content\" role=\"main\">\n",
      "     <div class=\"panel-pane pane-page-title\">\n",
      "      <h1>\n",
      "       Party Pictures Archive\n",
      "      </h1>\n",
      "     </div>\n",
      "     <div class=\"panel-pane pane-page-content\">\n",
      "      <div class=\"panel-display panel-1col clearfix\">\n",
      "       <div class=\"panel-panel panel-col\">\n",
      "        <div>\n",
      "         <div class=\"panel-pane pane-views pane-content-by-category\">\n",
      "          <div class=\"view view-content-by-category view-id-content_by_category view-display-id-list view-dom-id-cf01417f4166ff2644abb36f123b2a5a\">\n",
      "           <div class=\"view-content\">\n",
      "            <div class=\"views-row views-row-1 views-row-odd views-row-first\">\n",
      "             <span class=\"views-field views-field-title\">\n",
      "              <span class=\"field-content\">\n",
      "               <a href=\"/web/20150913224145/http://www.newyorksocialdiary.com/party-pictures/2015/kicks-offs-sing-offs-and-pro-ams\">\n",
      "                Kicks offs, sing offs, and pro ams\n",
      "               </a>\n",
      "              </span>\n",
      "             </span>\n",
      "             <span class=\"views-field views-field-created\">\n",
      "              <span class=\"field-content\">\n",
      "               Friday, September 11, 2015\n",
      "              </span>\n",
      "             </span>\n",
      "            </div>\n",
      "            <div class=\"views-row views-row-2 views-row-even\">\n",
      "             <span class=\"views-field views-field-title\">\n",
      "              <span class=\"field-content\">\n",
      "               <a href=\"/web/20150913224145/http://www.newyorksocialdiary.com/party-pictures/2015/grand-finale-of-the-hampton-classic-horse-show\">\n",
      "                Grand Finale of the Hampton Classic Horse Show\n",
      "               </a>\n",
      "              </span>\n",
      "             </span>\n",
      "             <span class=\"views-field views-field-created\">\n",
      "              <span class=\"field-content\">\n",
      "               Tuesday, September 1, 2015\n",
      "              </span>\n",
      "             </span>\n",
      "            </div>\n",
      "            <div class=\"views-row views-row-3 views-row-odd\">\n",
      "             <span class=\"views-field views-field-title\">\n",
      "              <span class=\"field-content\">\n",
      "               <a href=\"/web/20150913224145/http://www.newyorksocialdiary.com/party-pictures/2015/riders-spectators-horses-and-more\">\n",
      "                Riders, Spectators, Horses, and More ...\n",
      "               </a>\n",
      "              </span>\n",
      "             </span>\n",
      "             <span class=\"views-field views-field-created\">\n",
      "              <span class=\"field-content\">\n",
      "               Wednesday, August 26, 2015\n",
      "              </span>\n",
      "             </span>\n",
      "            </div>\n",
      "            <div class=\"views-row views-row-4 views-row-even\">\n",
      "             <span class=\"views-field views-field-title\">\n",
      "              <span class=\"field-content\">\n",
      "               <a href=\"/web/20150913224145/http://www.newyorksocialdiary.com/party-pictures/2015/artist-and-writers-and-designers\">\n",
      "                Artist and Writers (and Designers)\n",
      "               </a>\n",
      "              </span>\n",
      "             </span>\n",
      "             <span class=\"views-field views-field-created\">\n",
      "              <span class=\"field-content\">\n",
      "               Thursday, August 20, 2015\n",
      "              </span>\n",
      "             </span>\n",
      "            </div>\n",
      "            <div class=\"views-row views-row-5 views-row-odd\">\n",
      "             <span class=\"views-field views-field-title\">\n",
      "              <span class=\"field-content\">\n",
      "               <a href=\"/web/20150913224145/http://www.newyorksocialdiary.com/party-pictures/2015/garden-parties-kickoffs-and-summer-benefits\">\n",
      "                Garden Parties Kickoffs  and Summer Benefits\n",
      "               </a>\n",
      "              </span>\n",
      "             </span>\n",
      "             <span class=\"views-field views-field-created\">\n",
      "              <span class=\"field-content\">\n",
      "               Monday, August 17, 2015\n",
      "              </span>\n",
      "             </span>\n",
      "            </div>\n",
      "            <div class=\"views-row views-row-6 views-row-even\">\n",
      "             <span class=\"views-field views-field-title\">\n",
      "              <span class=\"field-content\">\n",
      "               <a href=\"/web/20150913224145/http://www.newyorksocialdiary.com/party-pictures/2015/the-summer-set\">\n",
      "                The Summer Set\n",
      "               </a>\n",
      "              </span>\n",
      "             </span>\n",
      "             <span class=\"views-field views-field-created\">\n",
      "              <span class=\"field-content\">\n",
      "               Wednesday, August 12, 2015\n",
      "              </span>\n",
      "             </span>\n",
      "            </div>\n",
      "            <div class=\"views-row views-row-7 views-row-odd\">\n",
      "             <span class=\"views-field views-field-title\">\n",
      "              <span class=\"field-content\">\n",
      "               <a href=\"/web/20150913224145/http://www.newyorksocialdiary.com/party-pictures/2015/midsummer-parties\">\n",
      "                Midsummer Parties\n",
      "               </a>\n",
      "              </span>\n",
      "             </span>\n",
      "             <span class=\"views-field views-field-created\">\n",
      "              <span class=\"field-content\">\n",
      "               Wednesday, August 5, 2015\n",
      "              </span>\n",
      "             </span>\n",
      "            </div>\n",
      "            <div class=\"views-row views-row-8 views-row-even\">\n",
      "             <span class=\"views-field views-field-title\">\n",
      "              <span class=\"field-content\">\n",
      "               <a href=\"/web/20150913224145/http://www.newyorksocialdiary.com/party-pictures/2015/the-watermill-center-and-the-parrish\">\n",
      "                The Watermill Center and The Parrish\n",
      "               </a>\n",
      "              </span>\n",
      "             </span>\n",
      "             <span class=\"views-field views-field-created\">\n",
      "              <span class=\"field-content\">\n",
      "               Wednesday, July 29, 2015\n",
      "              </span>\n",
      "             </span>\n",
      "            </div>\n",
      "            <div class=\"views-row views-row-9 views-row-odd\">\n",
      "             <span class=\"views-field views-field-title\">\n",
      "              <span class=\"field-content\">\n",
      "               <a href=\"/web/20150913224145/http://www.newyorksocialdiary.com/party-pictures/2015/unconditional-love\">\n",
      "                Unconditional Love\n",
      "               </a>\n",
      "              </span>\n",
      "             </span>\n",
      "             <span class=\"views-field views-field-created\">\n",
      "              <span class=\"field-content\">\n",
      "               Thursday, July 23, 2015\n",
      "              </span>\n",
      "             </span>\n",
      "            </div>\n",
      "            <div class=\"views-row views-row-10 views-row-even\">\n",
      "             <span class=\"views-field views-field-title\">\n",
      "              <span class=\"field-content\">\n",
      "               <a href=\"/web/20150913224145/http://www.newyorksocialdiary.com/party-pictures/2015/womens-health-boys-girls-cancer-research-and-just-plain-summer-fun\">\n",
      "                Women's Health, Boys &amp; Girls, Cancer Research, and Just Plain Summer Fun\n",
      "               </a>\n",
      "              </span>\n",
      "             </span>\n",
      "             <span class=\"views-field views-field-created\">\n",
      "              <span class=\"field-content\">\n",
      "               Friday, July 17, 2015\n",
      "              </span>\n",
      "             </span>\n",
      "            </div>\n",
      "            <div class=\"views-row views-row-11 views-row-odd\">\n",
      "             <span class=\"views-field views-field-title\">\n",
      "              <span class=\"field-content\">\n",
      "               <a href=\"/web/20150913224145/http://www.newyorksocialdiary.com/party-pictures/2015/art-southampton-mashomack-sofo-and-arthamptons\">\n",
      "                Art Southampton, Mashomack, SoFo, and ArtHamptons\n",
      "               </a>\n",
      "              </span>\n",
      "             </span>\n",
      "             <span class=\"views-field views-field-created\">\n",
      "              <span class=\"field-content\">\n",
      "               Monday, July 13, 2015\n",
      "              </span>\n",
      "             </span>\n",
      "            </div>\n",
      "            <div class=\"views-row views-row-12 views-row-even\">\n",
      "             <span class=\"views-field views-field-title\">\n",
      "              <span class=\"field-content\">\n",
      "               <a href=\"/web/20150913224145/http://www.newyorksocialdiary.com/party-pictures/2015/this-and-that\">\n",
      "                This and That\n",
      "               </a>\n",
      "              </span>\n",
      "             </span>\n",
      "             <span class=\"views-field views-field-created\">\n",
      "              <span class=\"field-content\">\n",
      "               Friday, July 10, 2015\n",
      "              </span>\n",
      "             </span>\n",
      "            </div>\n",
      "            <div class=\"views-row views-row-13 views-row-odd\">\n",
      "             <span class=\"views-field views-field-title\">\n",
      "              <span class=\"field-content\">\n",
      "               <a href=\"/web/20150913224145/http://www.newyorksocialdiary.com/party-pictures/2015/divine-intervention\">\n",
      "                Divine Intervention\n",
      "               </a>\n",
      "              </span>\n",
      "             </span>\n",
      "             <span class=\"views-field views-field-created\">\n",
      "              <span class=\"field-content\">\n",
      "               Friday, July 3, 2015\n",
      "              </span>\n",
      "             </span>\n",
      "            </div>\n",
      "            <div class=\"views-row views-row-14 views-row-even\">\n",
      "             <span class=\"views-field views-field-title\">\n",
      "              <span class=\"field-content\">\n",
      "               <a href=\"/web/20150913224145/http://www.newyorksocialdiary.com/party-pictures/2015/where-the-wild-things\">\n",
      "                Where the Wild Things ...\n",
      "               </a>\n",
      "              </span>\n",
      "             </span>\n",
      "             <span class=\"views-field views-field-created\">\n",
      "              <span class=\"field-content\">\n",
      "               Monday, June 29, 2015\n",
      "              </span>\n",
      "             </span>\n",
      "            </div>\n",
      "            <div class=\"views-row views-row-15 views-row-odd\">\n",
      "             <span class=\"views-field views-field-title\">\n",
      "              <span class=\"field-content\">\n",
      "               <a href=\"/web/20150913224145/http://www.newyorksocialdiary.com/party-pictures/2015/signature-events\">\n",
      "                Signature Events\n",
      "               </a>\n",
      "              </span>\n",
      "             </span>\n",
      "             <span class=\"views-field views-field-created\">\n",
      "              <span class=\"field-content\">\n",
      "               Friday, June 26, 2015\n",
      "              </span>\n",
      "             </span>\n",
      "            </div>\n",
      "            <div class=\"views-row views-row-16 views-row-even\">\n",
      "             <span class=\"views-field views-field-title\">\n",
      "              <span class=\"field-content\">\n",
      "               <a href=\"/web/20150913224145/http://www.newyorksocialdiary.com/party-pictures/2015/young-new-yorkers-chashama-brain-behavior-fundahigado-america\">\n",
      "                Young New Yorkers, chashama, Brain &amp; Behavior, FundaHigado America\n",
      "               </a>\n",
      "              </span>\n",
      "             </span>\n",
      "             <span class=\"views-field views-field-created\">\n",
      "              <span class=\"field-content\">\n",
      "               Tuesday, June 23, 2015\n",
      "              </span>\n",
      "             </span>\n",
      "            </div>\n",
      "            <div class=\"views-row views-row-17 views-row-odd\">\n",
      "             <span class=\"views-field views-field-title\">\n",
      "              <span class=\"field-content\">\n",
      "               <a href=\"/web/20150913224145/http://www.newyorksocialdiary.com/party-pictures/2015/play-for-pink-freeing-voices-stories-from-the-war-and-spirit-of-achievement\">\n",
      "                Play For Pink, Freeing Voices, Stories from the War, and Spirit of Achievement\n",
      "               </a>\n",
      "              </span>\n",
      "             </span>\n",
      "             <span class=\"views-field views-field-created\">\n",
      "              <span class=\"field-content\">\n",
      "               Monday, June 22, 2015\n",
      "              </span>\n",
      "             </span>\n",
      "            </div>\n",
      "            <div class=\"views-row views-row-18 views-row-even\">\n",
      "             <span class=\"views-field views-field-title\">\n",
      "              <span class=\"field-content\">\n",
      "               <a href=\"/web/20150913224145/http://www.newyorksocialdiary.com/party-pictures/2015/a-taste-of-summer\">\n",
      "                A Taste of Summer\n",
      "               </a>\n",
      "              </span>\n",
      "             </span>\n",
      "             <span class=\"views-field views-field-created\">\n",
      "              <span class=\"field-content\">\n",
      "               Wednesday, June 17, 2015\n",
      "              </span>\n",
      "             </span>\n",
      "            </div>\n",
      "            <div class=\"views-row views-row-19 views-row-odd\">\n",
      "             <span class=\"views-field views-field-title\">\n",
      "              <span class=\"field-content\">\n",
      "               <a href=\"/web/20150913224145/http://www.newyorksocialdiary.com/party-pictures/2015/gods-love-we-deliver-the-black-alumni-of-pratt-a-gala-salute-for-wnet-and\">\n",
      "                God’s Love We Deliver, The Black Alumni of Pratt, A Gala Salute for WNET, and Covenant House\n",
      "               </a>\n",
      "              </span>\n",
      "             </span>\n",
      "             <span class=\"views-field views-field-created\">\n",
      "              <span class=\"field-content\">\n",
      "               Monday, June 15, 2015\n",
      "              </span>\n",
      "             </span>\n",
      "            </div>\n",
      "            <div class=\"views-row views-row-20 views-row-even\">\n",
      "             <span class=\"views-field views-field-title\">\n",
      "              <span class=\"field-content\">\n",
      "               <a href=\"/web/20150913224145/http://www.newyorksocialdiary.com/party-pictures/2015/education-research-and-patient-care\">\n",
      "                Education, research and patient care\n",
      "               </a>\n",
      "              </span>\n",
      "             </span>\n",
      "             <span class=\"views-field views-field-created\">\n",
      "              <span class=\"field-content\">\n",
      "               Wednesday, June 10, 2015\n",
      "              </span>\n",
      "             </span>\n",
      "            </div>\n",
      "            <div class=\"views-row views-row-21 views-row-odd\">\n",
      "             <span class=\"views-field views-field-title\">\n",
      "              <span class=\"field-content\">\n",
      "               <a href=\"/web/20150913224145/http://www.newyorksocialdiary.com/party-pictures/2015/broadway-melodies-historic-hearst-castle-the-hermione-calvary-china-institute\">\n",
      "                Broadway Melodies, Historic Hearst Castle, the Hermione, Calvary, China Institute, and the Inner-City\n",
      "               </a>\n",
      "              </span>\n",
      "             </span>\n",
      "             <span class=\"views-field views-field-created\">\n",
      "              <span class=\"field-content\">\n",
      "               Monday, June 8, 2015\n",
      "              </span>\n",
      "             </span>\n",
      "            </div>\n",
      "            <div class=\"views-row views-row-22 views-row-even\">\n",
      "             <span class=\"views-field views-field-title\">\n",
      "              <span class=\"field-content\">\n",
      "               <a href=\"/web/20150913224145/http://www.newyorksocialdiary.com/party-pictures/2015/philanthropic-legal-social-justice-civic-and-business-communities\">\n",
      "                Philanthropic, legal, social justice, civic and business communities\n",
      "               </a>\n",
      "              </span>\n",
      "             </span>\n",
      "             <span class=\"views-field views-field-created\">\n",
      "              <span class=\"field-content\">\n",
      "               Friday, June 5, 2015\n",
      "              </span>\n",
      "             </span>\n",
      "            </div>\n",
      "            <div class=\"views-row views-row-23 views-row-odd\">\n",
      "             <span class=\"views-field views-field-title\">\n",
      "              <span class=\"field-content\">\n",
      "               <a href=\"/web/20150913224145/http://www.newyorksocialdiary.com/party-pictures/2015/milestone-celebrations\">\n",
      "                Milestone Celebrations\n",
      "               </a>\n",
      "              </span>\n",
      "             </span>\n",
      "             <span class=\"views-field views-field-created\">\n",
      "              <span class=\"field-content\">\n",
      "               Thursday, June 4, 2015\n",
      "              </span>\n",
      "             </span>\n",
      "            </div>\n",
      "            <div class=\"views-row views-row-24 views-row-even\">\n",
      "             <span class=\"views-field views-field-title\">\n",
      "              <span class=\"field-content\">\n",
      "               <a href=\"/web/20150913224145/http://www.newyorksocialdiary.com/party-pictures/2015/arf-pratt-institute-caron-city-college-center-for-the-arts-and-susan-g-komen\">\n",
      "                ARF, Pratt Institute, Caron, City College Center for the Arts, and Susan G. Komen\n",
      "               </a>\n",
      "              </span>\n",
      "             </span>\n",
      "             <span class=\"views-field views-field-created\">\n",
      "              <span class=\"field-content\">\n",
      "               Monday, June 1, 2015\n",
      "              </span>\n",
      "             </span>\n",
      "            </div>\n",
      "            <div class=\"views-row views-row-25 views-row-odd\">\n",
      "             <span class=\"views-field views-field-title\">\n",
      "              <span class=\"field-content\">\n",
      "               <a href=\"/web/20150913224145/http://www.newyorksocialdiary.com/party-pictures/2015/united-cerebral-palsy-the-opportunity-network-92nd-street-y-the-animal-medical\">\n",
      "                United Cerebral Palsy, The Opportunity Network, 92nd Street Y, The Animal Medical Center, Parkinson's Disease Foundation, and Bachmann-Strauss\n",
      "               </a>\n",
      "              </span>\n",
      "             </span>\n",
      "             <span class=\"views-field views-field-created\">\n",
      "              <span class=\"field-content\">\n",
      "               Wednesday, May 27, 2015\n",
      "              </span>\n",
      "             </span>\n",
      "            </div>\n",
      "            <div class=\"views-row views-row-26 views-row-even\">\n",
      "             <span class=\"views-field views-field-title\">\n",
      "              <span class=\"field-content\">\n",
      "               <a href=\"/web/20150913224145/http://www.newyorksocialdiary.com/party-pictures/2015/la-belle-epoque\">\n",
      "                La Belle Epoque\n",
      "               </a>\n",
      "              </span>\n",
      "             </span>\n",
      "             <span class=\"views-field views-field-created\">\n",
      "              <span class=\"field-content\">\n",
      "               Tuesday, May 26, 2015\n",
      "              </span>\n",
      "             </span>\n",
      "            </div>\n",
      "            <div class=\"views-row views-row-27 views-row-odd\">\n",
      "             <span class=\"views-field views-field-title\">\n",
      "              <span class=\"field-content\">\n",
      "               <a href=\"/web/20150913224145/http://www.newyorksocialdiary.com/party-pictures/2015/el-museo-del-barrio-fountain-house-empowers-africa-and-gray-matters\">\n",
      "                El Museo del Barrio, Fountain House, Empowers Africa, and  Gray Matters\n",
      "               </a>\n",
      "              </span>\n",
      "             </span>\n",
      "             <span class=\"views-field views-field-created\">\n",
      "              <span class=\"field-content\">\n",
      "               Friday, May 22, 2015\n",
      "              </span>\n",
      "             </span>\n",
      "            </div>\n",
      "            <div class=\"views-row views-row-28 views-row-even\">\n",
      "             <span class=\"views-field views-field-title\">\n",
      "              <span class=\"field-content\">\n",
      "               <a href=\"/web/20150913224145/http://www.newyorksocialdiary.com/party-pictures/2015/spring-ahead\">\n",
      "                Spring Ahead\n",
      "               </a>\n",
      "              </span>\n",
      "             </span>\n",
      "             <span class=\"views-field views-field-created\">\n",
      "              <span class=\"field-content\">\n",
      "               Tuesday, May 19, 2015\n",
      "              </span>\n",
      "             </span>\n",
      "            </div>\n",
      "            <div class=\"views-row views-row-29 views-row-odd\">\n",
      "             <span class=\"views-field views-field-title\">\n",
      "              <span class=\"field-content\">\n",
      "               <a href=\"/web/20150913224145/http://www.newyorksocialdiary.com/party-pictures/2015/rockefeller-university-bal-des-berceaux-and-icaa\">\n",
      "                Rockefeller University, Bal des Berceaux, and ICAA\n",
      "               </a>\n",
      "              </span>\n",
      "             </span>\n",
      "             <span class=\"views-field views-field-created\">\n",
      "              <span class=\"field-content\">\n",
      "               Monday, May 18, 2015\n",
      "              </span>\n",
      "             </span>\n",
      "            </div>\n",
      "            <div class=\"views-row views-row-30 views-row-even\">\n",
      "             <span class=\"views-field views-field-title\">\n",
      "              <span class=\"field-content\">\n",
      "               <a href=\"/web/20150913224145/http://www.newyorksocialdiary.com/party-pictures/2015/nyc-ballet-masterpiece-london-pratt-institute-and-project-sunshine\">\n",
      "                NYC Ballet, Masterpiece London, Pratt Institute, and Project Sunshine\n",
      "               </a>\n",
      "              </span>\n",
      "             </span>\n",
      "             <span class=\"views-field views-field-created\">\n",
      "              <span class=\"field-content\">\n",
      "               Friday, May 15, 2015\n",
      "              </span>\n",
      "             </span>\n",
      "            </div>\n",
      "            <div class=\"views-row views-row-31 views-row-odd\">\n",
      "             <span class=\"views-field views-field-title\">\n",
      "              <span class=\"field-content\">\n",
      "               <a href=\"/web/20150913224145/http://www.newyorksocialdiary.com/party-pictures/2015/in-the-presence-of\">\n",
      "                In the presence of ...\n",
      "               </a>\n",
      "              </span>\n",
      "             </span>\n",
      "             <span class=\"views-field views-field-created\">\n",
      "              <span class=\"field-content\">\n",
      "               Tuesday, May 12, 2015\n",
      "              </span>\n",
      "             </span>\n",
      "            </div>\n",
      "            <div class=\"views-row views-row-32 views-row-even\">\n",
      "             <span class=\"views-field views-field-title\">\n",
      "              <span class=\"field-content\">\n",
      "               <a href=\"/web/20150913224145/http://www.newyorksocialdiary.com/party-pictures/2015/over-the-top-extravaganzas\">\n",
      "                Over-the-top extravaganzas\n",
      "               </a>\n",
      "              </span>\n",
      "             </span>\n",
      "             <span class=\"views-field views-field-created\">\n",
      "              <span class=\"field-content\">\n",
      "               Friday, May 8, 2015\n",
      "              </span>\n",
      "             </span>\n",
      "            </div>\n",
      "            <div class=\"views-row views-row-33 views-row-odd\">\n",
      "             <span class=\"views-field views-field-title\">\n",
      "              <span class=\"field-content\">\n",
      "               <a href=\"/web/20150913224145/http://www.newyorksocialdiary.com/party-pictures/2015/dpcs-take-at-the-33rd-annual-frederick-law-olmsted-awards-luncheon\">\n",
      "                DPC'S take at the 33rd annual Frederick Law Olmsted Awards Luncheon\n",
      "               </a>\n",
      "              </span>\n",
      "             </span>\n",
      "             <span class=\"views-field views-field-created\">\n",
      "              <span class=\"field-content\">\n",
      "               Thursday, May 7, 2015\n",
      "              </span>\n",
      "             </span>\n",
      "            </div>\n",
      "            <div class=\"views-row views-row-34 views-row-even\">\n",
      "             <span class=\"views-field views-field-title\">\n",
      "              <span class=\"field-content\">\n",
      "               <a href=\"/web/20150913224145/http://www.newyorksocialdiary.com/party-pictures/2015/hellos-and-goodbyes\">\n",
      "                Hellos and Goodbyes\n",
      "               </a>\n",
      "              </span>\n",
      "             </span>\n",
      "             <span class=\"views-field views-field-created\">\n",
      "              <span class=\"field-content\">\n",
      "               Tuesday, May 5, 2015\n",
      "              </span>\n",
      "             </span>\n",
      "            </div>\n",
      "            <div class=\"views-row views-row-35 views-row-odd\">\n",
      "             <span class=\"views-field views-field-title\">\n",
      "              <span class=\"field-content\">\n",
      "               <a href=\"/web/20150913224145/http://www.newyorksocialdiary.com/party-pictures/2015/women-of-distinction\">\n",
      "                Women of Distinction\n",
      "               </a>\n",
      "              </span>\n",
      "             </span>\n",
      "             <span class=\"views-field views-field-created\">\n",
      "              <span class=\"field-content\">\n",
      "               Thursday, April 30, 2015\n",
      "              </span>\n",
      "             </span>\n",
      "            </div>\n",
      "            <div class=\"views-row views-row-36 views-row-even\">\n",
      "             <span class=\"views-field views-field-title\">\n",
      "              <span class=\"field-content\">\n",
      "               <a href=\"/web/20150913224145/http://www.newyorksocialdiary.com/party-pictures/2015/nights-for-changing-lives\">\n",
      "                Nights for Changing Lives\n",
      "               </a>\n",
      "              </span>\n",
      "             </span>\n",
      "             <span class=\"views-field views-field-created\">\n",
      "              <span class=\"field-content\">\n",
      "               Monday, April 27, 2015\n",
      "              </span>\n",
      "             </span>\n",
      "            </div>\n",
      "            <div class=\"views-row views-row-37 views-row-odd\">\n",
      "             <span class=\"views-field views-field-title\">\n",
      "              <span class=\"field-content\">\n",
      "               <a href=\"/web/20150913224145/http://www.newyorksocialdiary.com/party-pictures/2015/il-piacere-dellamore\">\n",
      "                Il Piacere dell’Amore\n",
      "               </a>\n",
      "              </span>\n",
      "             </span>\n",
      "             <span class=\"views-field views-field-created\">\n",
      "              <span class=\"field-content\">\n",
      "               Thursday, April 23, 2015\n",
      "              </span>\n",
      "             </span>\n",
      "            </div>\n",
      "            <div class=\"views-row views-row-38 views-row-even\">\n",
      "             <span class=\"views-field views-field-title\">\n",
      "              <span class=\"field-content\">\n",
      "               <a href=\"/web/20150913224145/http://www.newyorksocialdiary.com/party-pictures/2015/masquerade-retrograde\">\n",
      "                Masquerade Retrograde\n",
      "               </a>\n",
      "              </span>\n",
      "             </span>\n",
      "             <span class=\"views-field views-field-created\">\n",
      "              <span class=\"field-content\">\n",
      "               Wednesday, April 22, 2015\n",
      "              </span>\n",
      "             </span>\n",
      "            </div>\n",
      "            <div class=\"views-row views-row-39 views-row-odd\">\n",
      "             <span class=\"views-field views-field-title\">\n",
      "              <span class=\"field-content\">\n",
      "               <a href=\"/web/20150913224145/http://www.newyorksocialdiary.com/party-pictures/2015/artists-and-writers-and-designers\">\n",
      "                Artists and Writers and Designers\n",
      "               </a>\n",
      "              </span>\n",
      "             </span>\n",
      "             <span class=\"views-field views-field-created\">\n",
      "              <span class=\"field-content\">\n",
      "               Tuesday, April 21, 2015\n",
      "              </span>\n",
      "             </span>\n",
      "            </div>\n",
      "            <div class=\"views-row views-row-40 views-row-even\">\n",
      "             <span class=\"views-field views-field-title\">\n",
      "              <span class=\"field-content\">\n",
      "               <a href=\"/web/20150913224145/http://www.newyorksocialdiary.com/party-pictures/2015/in-kind\">\n",
      "                In Kind\n",
      "               </a>\n",
      "              </span>\n",
      "             </span>\n",
      "             <span class=\"views-field views-field-created\">\n",
      "              <span class=\"field-content\">\n",
      "               Friday, April 17, 2015\n",
      "              </span>\n",
      "             </span>\n",
      "            </div>\n",
      "            <div class=\"views-row views-row-41 views-row-odd\">\n",
      "             <span class=\"views-field views-field-title\">\n",
      "              <span class=\"field-content\">\n",
      "               <a href=\"/web/20150913224145/http://www.newyorksocialdiary.com/party-pictures/2015/aspca-playground-partners-east-side-house-settlement-and-castle-connolly\">\n",
      "                ASPCA, Playground Partners, East Side House Settlement, and Castle Connolly\n",
      "               </a>\n",
      "              </span>\n",
      "             </span>\n",
      "             <span class=\"views-field views-field-created\">\n",
      "              <span class=\"field-content\">\n",
      "               Monday, April 13, 2015\n",
      "              </span>\n",
      "             </span>\n",
      "            </div>\n",
      "            <div class=\"views-row views-row-42 views-row-even\">\n",
      "             <span class=\"views-field views-field-title\">\n",
      "              <span class=\"field-content\">\n",
      "               <a href=\"/web/20150913224145/http://www.newyorksocialdiary.com/party-pictures/2015/el-museo-pdf-tusk-and-nyc-mission-society\">\n",
      "                El Museo, PDF, Tusk, and NYC Mission Society\n",
      "               </a>\n",
      "              </span>\n",
      "             </span>\n",
      "             <span class=\"views-field views-field-created\">\n",
      "              <span class=\"field-content\">\n",
      "               Thursday, April 9, 2015\n",
      "              </span>\n",
      "             </span>\n",
      "            </div>\n",
      "            <div class=\"views-row views-row-43 views-row-odd\">\n",
      "             <span class=\"views-field views-field-title\">\n",
      "              <span class=\"field-content\">\n",
      "               <a href=\"/web/20150913224145/http://www.newyorksocialdiary.com/party-pictures/2015/drifting-in-daylight\">\n",
      "                Drifting in Daylight\n",
      "               </a>\n",
      "              </span>\n",
      "             </span>\n",
      "             <span class=\"views-field views-field-created\">\n",
      "              <span class=\"field-content\">\n",
      "               Monday, April 6, 2015\n",
      "              </span>\n",
      "             </span>\n",
      "            </div>\n",
      "            <div class=\"views-row views-row-44 views-row-even\">\n",
      "             <span class=\"views-field views-field-title\">\n",
      "              <span class=\"field-content\">\n",
      "               <a href=\"/web/20150913224145/http://www.newyorksocialdiary.com/party-pictures/2015/the-art-of-fashion\">\n",
      "                The Art of Fashion\n",
      "               </a>\n",
      "              </span>\n",
      "             </span>\n",
      "             <span class=\"views-field views-field-created\">\n",
      "              <span class=\"field-content\">\n",
      "               Friday, April 3, 2015\n",
      "              </span>\n",
      "             </span>\n",
      "            </div>\n",
      "            <div class=\"views-row views-row-45 views-row-odd\">\n",
      "             <span class=\"views-field views-field-title\">\n",
      "              <span class=\"field-content\">\n",
      "               <a href=\"/web/20150913224145/http://www.newyorksocialdiary.com/party-pictures/2015/glitz-glamour\">\n",
      "                Glitz &amp; Glamour\n",
      "               </a>\n",
      "              </span>\n",
      "             </span>\n",
      "             <span class=\"views-field views-field-created\">\n",
      "              <span class=\"field-content\">\n",
      "               Monday, March 30, 2015\n",
      "              </span>\n",
      "             </span>\n",
      "            </div>\n",
      "            <div class=\"views-row views-row-46 views-row-even\">\n",
      "             <span class=\"views-field views-field-title\">\n",
      "              <span class=\"field-content\">\n",
      "               <a href=\"/web/20150913224145/http://www.newyorksocialdiary.com/party-pictures/2015/madoo-in-manhattan-pmp-in-palm-beach\">\n",
      "                Madoo in Manhattan, PMP in Palm Beach\n",
      "               </a>\n",
      "              </span>\n",
      "             </span>\n",
      "             <span class=\"views-field views-field-created\">\n",
      "              <span class=\"field-content\">\n",
      "               Wednesday, March 25, 2015\n",
      "              </span>\n",
      "             </span>\n",
      "            </div>\n",
      "            <div class=\"views-row views-row-47 views-row-odd\">\n",
      "             <span class=\"views-field views-field-title\">\n",
      "              <span class=\"field-content\">\n",
      "               <a href=\"/web/20150913224145/http://www.newyorksocialdiary.com/party-pictures/2015/love-heals\">\n",
      "                Love Heals\n",
      "               </a>\n",
      "              </span>\n",
      "             </span>\n",
      "             <span class=\"views-field views-field-created\">\n",
      "              <span class=\"field-content\">\n",
      "               Friday, March 20, 2015\n",
      "              </span>\n",
      "             </span>\n",
      "            </div>\n",
      "            <div class=\"views-row views-row-48 views-row-even\">\n",
      "             <span class=\"views-field views-field-title\">\n",
      "              <span class=\"field-content\">\n",
      "               <a href=\"/web/20150913224145/http://www.newyorksocialdiary.com/party-pictures/2015/citymeals-on-wheels-mount-sinai-hospital-un-women-for-peace-and-the-red-cross\">\n",
      "                Citymeals-on-Wheels, Mount Sinai Hospital, UN Women for Peace, and the Red Cross Ball\n",
      "               </a>\n",
      "              </span>\n",
      "             </span>\n",
      "             <span class=\"views-field views-field-created\">\n",
      "              <span class=\"field-content\">\n",
      "               Wednesday, March 18, 2015\n",
      "              </span>\n",
      "             </span>\n",
      "            </div>\n",
      "            <div class=\"views-row views-row-49 views-row-odd\">\n",
      "             <span class=\"views-field views-field-title\">\n",
      "              <span class=\"field-content\">\n",
      "               <a href=\"/web/20150913224145/http://www.newyorksocialdiary.com/party-pictures/2015/ripa-eight-over-eighty-trees-new-york-and-fabulous-at-any-age\">\n",
      "                RIPA, Eight Over Eighty, Trees New York, and Fabulous at Any Age\n",
      "               </a>\n",
      "              </span>\n",
      "             </span>\n",
      "             <span class=\"views-field views-field-created\">\n",
      "              <span class=\"field-content\">\n",
      "               Tuesday, March 17, 2015\n",
      "              </span>\n",
      "             </span>\n",
      "            </div>\n",
      "            <div class=\"views-row views-row-50 views-row-even views-row-last\">\n",
      "             <span class=\"views-field views-field-title\">\n",
      "              <span class=\"field-content\">\n",
      "               <a href=\"/web/20150913224145/http://www.newyorksocialdiary.com/party-pictures/2015/bunny-hop-the-boys-club-old-bags-and-more\">\n",
      "                Bunny Hop, The Boys' Club, Old Bags, and more ...\n",
      "               </a>\n",
      "              </span>\n",
      "             </span>\n",
      "             <span class=\"views-field views-field-created\">\n",
      "              <span class=\"field-content\">\n",
      "               Friday, March 13, 2015\n",
      "              </span>\n",
      "             </span>\n",
      "            </div>\n",
      "           </div>\n",
      "           <h2 class=\"element-invisible\">\n",
      "            Pages\n",
      "           </h2>\n",
      "           <ul class=\"pager\">\n",
      "            <li class=\"pager__item pager__item--current\">\n",
      "             1\n",
      "            </li>\n",
      "            <li class=\"pager__item\">\n",
      "             <a href=\"/web/20150913224145/http://www.newyorksocialdiary.com/party-pictures?page=1\" title=\"Go to page 2\">\n",
      "              2\n",
      "             </a>\n",
      "            </li>\n",
      "            <li class=\"pager__item\">\n",
      "             <a href=\"/web/20150913224145/http://www.newyorksocialdiary.com/party-pictures?page=2\" title=\"Go to page 3\">\n",
      "              3\n",
      "             </a>\n",
      "            </li>\n",
      "            <li class=\"pager__item\">\n",
      "             <a href=\"/web/20150913224145/http://www.newyorksocialdiary.com/party-pictures?page=3\" title=\"Go to page 4\">\n",
      "              4\n",
      "             </a>\n",
      "            </li>\n",
      "            <li class=\"pager__item\">\n",
      "             <a href=\"/web/20150913224145/http://www.newyorksocialdiary.com/party-pictures?page=4\" title=\"Go to page 5\">\n",
      "              5\n",
      "             </a>\n",
      "            </li>\n",
      "            <li class=\"pager__item\">\n",
      "             <a href=\"/web/20150913224145/http://www.newyorksocialdiary.com/party-pictures?page=5\" title=\"Go to page 6\">\n",
      "              6\n",
      "             </a>\n",
      "            </li>\n",
      "            <li class=\"pager__item\">\n",
      "             <a href=\"/web/20150913224145/http://www.newyorksocialdiary.com/party-pictures?page=6\" title=\"Go to page 7\">\n",
      "              7\n",
      "             </a>\n",
      "            </li>\n",
      "            <li class=\"pager__item\">\n",
      "             <a href=\"/web/20150913224145/http://www.newyorksocialdiary.com/party-pictures?page=7\" title=\"Go to page 8\">\n",
      "              8\n",
      "             </a>\n",
      "            </li>\n",
      "            <li class=\"pager__item\">\n",
      "             <a href=\"/web/20150913224145/http://www.newyorksocialdiary.com/party-pictures?page=8\" title=\"Go to page 9\">\n",
      "              9\n",
      "             </a>\n",
      "            </li>\n",
      "            <li class=\"pager__item pager__item--ellipsis\">\n",
      "             …\n",
      "            </li>\n",
      "            <li class=\"pager__item pager__item--next\">\n",
      "             <a href=\"/web/20150913224145/http://www.newyorksocialdiary.com/party-pictures?page=1\" title=\"Go to next page\">\n",
      "              next ›\n",
      "             </a>\n",
      "            </li>\n",
      "            <li class=\"pager__item pager__item--last\">\n",
      "             <a href=\"/web/20150913224145/http://www.newyorksocialdiary.com/party-pictures?page=25\" title=\"Go to last page\">\n",
      "              last »\n",
      "             </a>\n",
      "            </li>\n",
      "           </ul>\n",
      "          </div>\n",
      "         </div>\n",
      "        </div>\n",
      "       </div>\n",
      "      </div>\n",
      "     </div>\n",
      "    </div>\n",
      "    <div class=\"l-region l-region--sidebar\">\n",
      "     <div class=\"panel-pane pane-ad pane-2 adverserve-ad advertserve-2\">\n",
      "      <!-- BEGIN ADVERTPRO CODE BLOCK -->\n",
      "      <script type=\"text/javascript\">\n",
      "       document.write('<scr' + 'ipt src=\"https://web.archive.org/web/20150913224145/http://newyorksocialdiary.advertserve.com/servlet/view/banner/javascript/zone?zid=2&pid=0&random=' + Math.floor(89999999 * Math.random() + 10000000) + '&millis=' + new Date().getTime() + '&referrer=' + encodeURIComponent(document.location) + '\" type=\"text/javascript\"></scr' + 'ipt>');\n",
      "      </script>\n",
      "      <!-- END ADVERTPRO CODE BLOCK -->\n",
      "     </div>\n",
      "     <div class=\"panel-pane pane-ad pane-2 adverserve-ad advertserve-2\">\n",
      "      <!-- BEGIN ADVERTPRO CODE BLOCK -->\n",
      "      <script type=\"text/javascript\">\n",
      "       document.write('<scr' + 'ipt src=\"https://web.archive.org/web/20150913224145/http://newyorksocialdiary.advertserve.com/servlet/view/banner/javascript/zone?zid=2&pid=0&random=' + Math.floor(89999999 * Math.random() + 10000000) + '&millis=' + new Date().getTime() + '&referrer=' + encodeURIComponent(document.location) + '\" type=\"text/javascript\"></scr' + 'ipt>');\n",
      "      </script>\n",
      "      <!-- END ADVERTPRO CODE BLOCK -->\n",
      "     </div>\n",
      "     <div class=\"panel-pane pane-ad pane-2 adverserve-ad advertserve-2\">\n",
      "      <!-- BEGIN ADVERTPRO CODE BLOCK -->\n",
      "      <script type=\"text/javascript\">\n",
      "       document.write('<scr' + 'ipt src=\"https://web.archive.org/web/20150913224145/http://newyorksocialdiary.advertserve.com/servlet/view/banner/javascript/zone?zid=2&pid=0&random=' + Math.floor(89999999 * Math.random() + 10000000) + '&millis=' + new Date().getTime() + '&referrer=' + encodeURIComponent(document.location) + '\" type=\"text/javascript\"></scr' + 'ipt>');\n",
      "      </script>\n",
      "      <!-- END ADVERTPRO CODE BLOCK -->\n",
      "     </div>\n",
      "     <div class=\"panel-pane pane-ad pane-2 adverserve-ad advertserve-2\">\n",
      "      <!-- BEGIN ADVERTPRO CODE BLOCK -->\n",
      "      <script type=\"text/javascript\">\n",
      "       document.write('<scr' + 'ipt src=\"https://web.archive.org/web/20150913224145/http://newyorksocialdiary.advertserve.com/servlet/view/banner/javascript/zone?zid=2&pid=0&random=' + Math.floor(89999999 * Math.random() + 10000000) + '&millis=' + new Date().getTime() + '&referrer=' + encodeURIComponent(document.location) + '\" type=\"text/javascript\"></scr' + 'ipt>');\n",
      "      </script>\n",
      "      <!-- END ADVERTPRO CODE BLOCK -->\n",
      "     </div>\n",
      "     <div class=\"panel-pane pane-ad pane-2 adverserve-ad advertserve-2\">\n",
      "      <!-- BEGIN ADVERTPRO CODE BLOCK -->\n",
      "      <script type=\"text/javascript\">\n",
      "       document.write('<scr' + 'ipt src=\"https://web.archive.org/web/20150913224145/http://newyorksocialdiary.advertserve.com/servlet/view/banner/javascript/zone?zid=2&pid=0&random=' + Math.floor(89999999 * Math.random() + 10000000) + '&millis=' + new Date().getTime() + '&referrer=' + encodeURIComponent(document.location) + '\" type=\"text/javascript\"></scr' + 'ipt>');\n",
      "      </script>\n",
      "      <!-- END ADVERTPRO CODE BLOCK -->\n",
      "     </div>\n",
      "     <div class=\"panel-pane pane-ad pane-4 adverserve-ad advertserve-4\">\n",
      "      <!-- BEGIN ADVERTPRO CODE BLOCK -->\n",
      "      <script type=\"text/javascript\">\n",
      "       document.write('<scr' + 'ipt src=\"https://web.archive.org/web/20150913224145/http://newyorksocialdiary.advertserve.com/servlet/view/banner/javascript/zone?zid=4&pid=0&random=' + Math.floor(89999999 * Math.random() + 10000000) + '&millis=' + new Date().getTime() + '&referrer=' + encodeURIComponent(document.location) + '\" type=\"text/javascript\"></scr' + 'ipt>');\n",
      "      </script>\n",
      "      <!-- END ADVERTPRO CODE BLOCK -->\n",
      "     </div>\n",
      "     <div class=\"panel-pane pane-ad pane-4 adverserve-ad advertserve-4\">\n",
      "      <!-- BEGIN ADVERTPRO CODE BLOCK -->\n",
      "      <script type=\"text/javascript\">\n",
      "       document.write('<scr' + 'ipt src=\"https://web.archive.org/web/20150913224145/http://newyorksocialdiary.advertserve.com/servlet/view/banner/javascript/zone?zid=4&pid=0&random=' + Math.floor(89999999 * Math.random() + 10000000) + '&millis=' + new Date().getTime() + '&referrer=' + encodeURIComponent(document.location) + '\" type=\"text/javascript\"></scr' + 'ipt>');\n",
      "      </script>\n",
      "      <!-- END ADVERTPRO CODE BLOCK -->\n",
      "     </div>\n",
      "     <div class=\"panel-pane pane-ad pane-4 adverserve-ad advertserve-4\">\n",
      "      <!-- BEGIN ADVERTPRO CODE BLOCK -->\n",
      "      <script type=\"text/javascript\">\n",
      "       document.write('<scr' + 'ipt src=\"https://web.archive.org/web/20150913224145/http://newyorksocialdiary.advertserve.com/servlet/view/banner/javascript/zone?zid=4&pid=0&random=' + Math.floor(89999999 * Math.random() + 10000000) + '&millis=' + new Date().getTime() + '&referrer=' + encodeURIComponent(document.location) + '\" type=\"text/javascript\"></scr' + 'ipt>');\n",
      "      </script>\n",
      "      <!-- END ADVERTPRO CODE BLOCK -->\n",
      "     </div>\n",
      "    </div>\n",
      "    <div class=\"l-footer-wrapper\" role=\"contentinfo\">\n",
      "     <div class=\"l-region l-region--footer\">\n",
      "      <div class=\"panel-pane pane-ad pane-14 adverserve-ad advertserve-14\">\n",
      "       <!-- BEGIN ADVERTPRO CODE BLOCK -->\n",
      "       <script type=\"text/javascript\">\n",
      "        document.write('<scr' + 'ipt src=\"https://web.archive.org/web/20150913224145/http://newyorksocialdiary.advertserve.com/servlet/view/banner/javascript/zone?zid=14&pid=0&random=' + Math.floor(89999999 * Math.random() + 10000000) + '&millis=' + new Date().getTime() + '&referrer=' + encodeURIComponent(document.location) + '\" type=\"text/javascript\"></scr' + 'ipt>');\n",
      "       </script>\n",
      "       <!-- END ADVERTPRO CODE BLOCK -->\n",
      "      </div>\n",
      "      <div class=\"panel-pane pane-ad pane-14 adverserve-ad advertserve-14\">\n",
      "       <!-- BEGIN ADVERTPRO CODE BLOCK -->\n",
      "       <script type=\"text/javascript\">\n",
      "        document.write('<scr' + 'ipt src=\"https://web.archive.org/web/20150913224145/http://newyorksocialdiary.advertserve.com/servlet/view/banner/javascript/zone?zid=14&pid=0&random=' + Math.floor(89999999 * Math.random() + 10000000) + '&millis=' + new Date().getTime() + '&referrer=' + encodeURIComponent(document.location) + '\" type=\"text/javascript\"></scr' + 'ipt>');\n",
      "       </script>\n",
      "       <!-- END ADVERTPRO CODE BLOCK -->\n",
      "      </div>\n",
      "      <div class=\"panel-pane pane-ad pane-14 adverserve-ad advertserve-14\">\n",
      "       <!-- BEGIN ADVERTPRO CODE BLOCK -->\n",
      "       <script type=\"text/javascript\">\n",
      "        document.write('<scr' + 'ipt src=\"https://web.archive.org/web/20150913224145/http://newyorksocialdiary.advertserve.com/servlet/view/banner/javascript/zone?zid=14&pid=0&random=' + Math.floor(89999999 * Math.random() + 10000000) + '&millis=' + new Date().getTime() + '&referrer=' + encodeURIComponent(document.location) + '\" type=\"text/javascript\"></scr' + 'ipt>');\n",
      "       </script>\n",
      "       <!-- END ADVERTPRO CODE BLOCK -->\n",
      "      </div>\n",
      "      <div class=\"panel-pane pane-ad pane-14 adverserve-ad advertserve-14\">\n",
      "       <!-- BEGIN ADVERTPRO CODE BLOCK -->\n",
      "       <script type=\"text/javascript\">\n",
      "        document.write('<scr' + 'ipt src=\"https://web.archive.org/web/20150913224145/http://newyorksocialdiary.advertserve.com/servlet/view/banner/javascript/zone?zid=14&pid=0&random=' + Math.floor(89999999 * Math.random() + 10000000) + '&millis=' + new Date().getTime() + '&referrer=' + encodeURIComponent(document.location) + '\" type=\"text/javascript\"></scr' + 'ipt>');\n",
      "       </script>\n",
      "       <!-- END ADVERTPRO CODE BLOCK -->\n",
      "      </div>\n",
      "      <div class=\"panel-pane pane-ad pane-14 adverserve-ad advertserve-14\">\n",
      "       <!-- BEGIN ADVERTPRO CODE BLOCK -->\n",
      "       <script type=\"text/javascript\">\n",
      "        document.write('<scr' + 'ipt src=\"https://web.archive.org/web/20150913224145/http://newyorksocialdiary.advertserve.com/servlet/view/banner/javascript/zone?zid=14&pid=0&random=' + Math.floor(89999999 * Math.random() + 10000000) + '&millis=' + new Date().getTime() + '&referrer=' + encodeURIComponent(document.location) + '\" type=\"text/javascript\"></scr' + 'ipt>');\n",
      "       </script>\n",
      "       <!-- END ADVERTPRO CODE BLOCK -->\n",
      "      </div>\n",
      "     </div>\n",
      "    </div>\n",
      "   </div>\n",
      "   <div class=\"l-page-suffix\">\n",
      "    <div class=\"l-region l-region--page-suffix\">\n",
      "     <div class=\"panel-pane pane-block pane-menu-menu-footer\">\n",
      "      <ul class=\"menu\">\n",
      "       <li class=\"first leaf\">\n",
      "        <a href=\"/web/20150913224145/http://www.newyorksocialdiary.com/newsletter\" title=\"Subscribe or unsubscribe to the newsletter.\">\n",
      "         Subscribe/Unsubscribe\n",
      "        </a>\n",
      "       </li>\n",
      "       <li class=\"last leaf\">\n",
      "        <a href=\"https://web.archive.org/web/20150913224145/http://newyorksocialdiary.com/legacy/layouts/nysdratecard2013_norates.html\" title=\"\">\n",
      "         Advertise\n",
      "        </a>\n",
      "       </li>\n",
      "      </ul>\n",
      "     </div>\n",
      "     <div class=\"panel-pane pane-custom pane-2\">\n",
      "      (c) 2014 David Patrick Columbia &amp; Jeffrey Hirsch/NewYorkSocialDiary.com\n",
      "     </div>\n",
      "    </div>\n",
      "   </div>\n",
      "  </div>\n",
      "  <!-- Start of StatCounter Code for Default Guide -->\n",
      "  <script type=\"text/javascript\">\n",
      "   var sc_project = 383967;\n",
      "var sc_invisible = 1;\n",
      "var sc_security = '';\n",
      "var sc_https = 1;\n",
      "var sc_remove_link = 1;\n",
      "var scJsHost = ((\"https:\" == document.location.protocol) ? \"https://web.archive.org/web/20150913224145/https://secure.\" : \"https://web.archive.org/web/20150913224145/http://www.\");\n",
      "document.write(\"<sc\" + \"ript type='text/javascript' src='\" + scJsHost + \"statcounter.com/counter/counter.js'></\" + \"script>\");\n",
      "  </script>\n",
      "  <noscript>\n",
      "   <div class=\"statcounter\">\n",
      "    <img alt=\"free web stats\" class=\"statcounter\" src=\"https://web.archive.org/web/20150913224145im_/http://c.statcounter.com/383967/0//1/\"/>\n",
      "   </div>\n",
      "  </noscript>\n",
      "  <!-- End of StatCounter Code for Default Guide -->\n",
      " </body>\n",
      "</html>\n",
      "<!--\n",
      "     FILE ARCHIVED ON 22:41:45 Sep 13, 2015 AND RETRIEVED FROM THE\n",
      "     INTERNET ARCHIVE ON 01:50:47 Jan 19, 2022.\n",
      "     JAVASCRIPT APPENDED BY WAYBACK MACHINE, COPYRIGHT INTERNET ARCHIVE.\n",
      "\n",
      "     ALL OTHER CONTENT MAY ALSO BE PROTECTED BY COPYRIGHT (17 U.S.C.\n",
      "     SECTION 108(a)(3)).\n",
      "-->\n",
      "\n"
     ]
    }
   ],
   "source": [
    "soup = BeautifulSoup(page_response.text, \"lxml\")\n",
    "print(soup.prettify())"
   ]
  },
  {
   "cell_type": "markdown",
   "metadata": {
    "slideshow": null
   },
   "source": [
    "This page has links to 50 party pages. Look at the structure of the page and determine how to isolate those links.  Your browser's developer tools (usually `Cmd`-`Option`-`I` on Mac, `Ctrl`-`Shift`-`I` on others) offer helpful tools to explore the structure of the HTML page.\n",
    "\n",
    "Once you have found a pattern, use BeautifulSoup's [select](https://www.crummy.com/software/BeautifulSoup/bs4/doc/#css-selectors) or [find_all](https://www.crummy.com/software/BeautifulSoup/bs4/doc/#find) methods to get those elements."
   ]
  },
  {
   "cell_type": "code",
   "execution_count": 6,
   "metadata": {},
   "outputs": [
    {
     "name": "stdout",
     "output_type": "stream",
     "text": [
      "50\n"
     ]
    }
   ],
   "source": [
    "links = soup.find_all('div', attrs={'class':'views-row'})\n",
    "print(len(links))"
   ]
  },
  {
   "cell_type": "markdown",
   "metadata": {
    "slideshow": null
   },
   "source": [
    "There should be 50 per page."
   ]
  },
  {
   "cell_type": "code",
   "execution_count": 7,
   "metadata": {
    "slideshow": null
   },
   "outputs": [
    {
     "data": {
      "text/plain": [
       "True"
      ]
     },
     "execution_count": 7,
     "metadata": {},
     "output_type": "execute_result"
    }
   ],
   "source": [
    "grader.check(len(links) == 50)"
   ]
  },
  {
   "cell_type": "markdown",
   "metadata": {
    "slideshow": null
   },
   "source": [
    "Let's take a look at that first link.  Figure out how to extract the URL of the link, as well as the date.  You probably want to use `datetime.strptime`.  See the [format codes for dates](https://docs.python.org/3/library/datetime.html#strftime-and-strptime-behavior) for reference."
   ]
  },
  {
   "cell_type": "code",
   "execution_count": 8,
   "metadata": {
    "slideshow": null
   },
   "outputs": [
    {
     "name": "stdout",
     "output_type": "stream",
     "text": [
      "<div class=\"views-row views-row-1 views-row-odd views-row-first\">\n",
      "<span class=\"views-field views-field-title\"> <span class=\"field-content\"><a href=\"/web/20150913224145/http://www.newyorksocialdiary.com/party-pictures/2015/kicks-offs-sing-offs-and-pro-ams\">Kicks offs, sing offs, and pro ams</a></span> </span>\n",
      "<span class=\"views-field views-field-created\"> <span class=\"field-content\">Friday, September 11, 2015</span> </span> </div>\n"
     ]
    }
   ],
   "source": [
    "# Check that the title and date match what you see visually.\n",
    "link = links[0]\n",
    "print(link)"
   ]
  },
  {
   "cell_type": "markdown",
   "metadata": {
    "slideshow": null
   },
   "source": [
    "For purposes of code reuse, let's put that logic into a function.  It should take the link element and return the URL and date parsed from it."
   ]
  },
  {
   "cell_type": "code",
   "execution_count": 9,
   "metadata": {
    "slideshow": null
   },
   "outputs": [],
   "source": [
    "def get_link_date(el):\n",
    "    url = 'https://web.archive.org/web/20150913224145/http://www.newyorksocialdiary.com' + el.a['href']\n",
    "    date_span = el.select('span.field-content')[1].text\n",
    "    date = datetime.strptime(date_span.strip(),'%A, %B %d, %Y')\n",
    "    return url, date"
   ]
  },
  {
   "cell_type": "code",
   "execution_count": 10,
   "metadata": {},
   "outputs": [
    {
     "data": {
      "text/plain": [
       "('https://web.archive.org/web/20150913224145/http://www.newyorksocialdiary.com/web/20150913224145/http://www.newyorksocialdiary.com/party-pictures/2015/kicks-offs-sing-offs-and-pro-ams',\n",
       " datetime.datetime(2015, 9, 11, 0, 0))"
      ]
     },
     "execution_count": 10,
     "metadata": {},
     "output_type": "execute_result"
    }
   ],
   "source": [
    "get_link_date(link)"
   ]
  },
  {
   "cell_type": "markdown",
   "metadata": {
    "slideshow": null
   },
   "source": [
    "You may want to check that it works as you expected (see above output).\n",
    "\n",
    "Once that's working, let's write another function to parse all of the links on a page.  Thinking ahead, we can make it take a Requests [Response](https://requests.readthedocs.io/en/master/api/#requests.Response) object and do the BeautifulSoup parsing within it."
   ]
  },
  {
   "cell_type": "code",
   "execution_count": 11,
   "metadata": {
    "slideshow": null
   },
   "outputs": [],
   "source": [
    "def get_links(page_response):\n",
    "    soup = BeautifulSoup(page_response.text, 'lxml')\n",
    "    temp_list = soup.find_all('div', attrs={'class':'views-row'})\n",
    "    link_pairs = []\n",
    "    for el in temp_list:\n",
    "        pair = get_link_date(el)\n",
    "        link_pairs.append(pair)\n",
    "    return link_pairs # A list of URL, date pairs"
   ]
  },
  {
   "cell_type": "code",
   "execution_count": 12,
   "metadata": {},
   "outputs": [
    {
     "name": "stdout",
     "output_type": "stream",
     "text": [
      "[('https://web.archive.org/web/20150913224145/http://www.newyorksocialdiary.com/web/20150913224145/http://www.newyorksocialdiary.com/party-pictures/2015/kicks-offs-sing-offs-and-pro-ams', datetime.datetime(2015, 9, 11, 0, 0)), ('https://web.archive.org/web/20150913224145/http://www.newyorksocialdiary.com/web/20150913224145/http://www.newyorksocialdiary.com/party-pictures/2015/grand-finale-of-the-hampton-classic-horse-show', datetime.datetime(2015, 9, 1, 0, 0)), ('https://web.archive.org/web/20150913224145/http://www.newyorksocialdiary.com/web/20150913224145/http://www.newyorksocialdiary.com/party-pictures/2015/riders-spectators-horses-and-more', datetime.datetime(2015, 8, 26, 0, 0)), ('https://web.archive.org/web/20150913224145/http://www.newyorksocialdiary.com/web/20150913224145/http://www.newyorksocialdiary.com/party-pictures/2015/artist-and-writers-and-designers', datetime.datetime(2015, 8, 20, 0, 0)), ('https://web.archive.org/web/20150913224145/http://www.newyorksocialdiary.com/web/20150913224145/http://www.newyorksocialdiary.com/party-pictures/2015/garden-parties-kickoffs-and-summer-benefits', datetime.datetime(2015, 8, 17, 0, 0)), ('https://web.archive.org/web/20150913224145/http://www.newyorksocialdiary.com/web/20150913224145/http://www.newyorksocialdiary.com/party-pictures/2015/the-summer-set', datetime.datetime(2015, 8, 12, 0, 0)), ('https://web.archive.org/web/20150913224145/http://www.newyorksocialdiary.com/web/20150913224145/http://www.newyorksocialdiary.com/party-pictures/2015/midsummer-parties', datetime.datetime(2015, 8, 5, 0, 0)), ('https://web.archive.org/web/20150913224145/http://www.newyorksocialdiary.com/web/20150913224145/http://www.newyorksocialdiary.com/party-pictures/2015/the-watermill-center-and-the-parrish', datetime.datetime(2015, 7, 29, 0, 0)), ('https://web.archive.org/web/20150913224145/http://www.newyorksocialdiary.com/web/20150913224145/http://www.newyorksocialdiary.com/party-pictures/2015/unconditional-love', datetime.datetime(2015, 7, 23, 0, 0)), ('https://web.archive.org/web/20150913224145/http://www.newyorksocialdiary.com/web/20150913224145/http://www.newyorksocialdiary.com/party-pictures/2015/womens-health-boys-girls-cancer-research-and-just-plain-summer-fun', datetime.datetime(2015, 7, 17, 0, 0))]\n"
     ]
    }
   ],
   "source": [
    "print(get_links(page_response)[:10])"
   ]
  },
  {
   "cell_type": "markdown",
   "metadata": {
    "slideshow": null
   },
   "source": [
    "If we run this on the previous response, we should get 50 pairs."
   ]
  },
  {
   "cell_type": "code",
   "execution_count": 13,
   "metadata": {
    "slideshow": null
   },
   "outputs": [
    {
     "data": {
      "text/plain": [
       "True"
      ]
     },
     "execution_count": 13,
     "metadata": {},
     "output_type": "execute_result"
    }
   ],
   "source": [
    "# These should be the same links from earlier\n",
    "grader.check(len(get_links(page_response)) == 50)"
   ]
  },
  {
   "cell_type": "markdown",
   "metadata": {
    "slideshow": null
   },
   "source": [
    "But we only want parties with dates on or before the first of December, 2014.  Let's write a function to filter our list of dates to those at or before a cutoff.  Using a keyword argument, we can put in a default cutoff, but allow us to test with others."
   ]
  },
  {
   "cell_type": "code",
   "execution_count": 14,
   "metadata": {
    "slideshow": null
   },
   "outputs": [],
   "source": [
    "def filter_by_date(links, cutoff=datetime(2014, 12, 1)):\n",
    "    # Return only the elements with date <= cutoff\n",
    "    filtered_link_pairs = []\n",
    "    for el in links:\n",
    "        if el[1] <= cutoff:\n",
    "            filtered_link_pairs.append(el)\n",
    "    return filtered_link_pairs"
   ]
  },
  {
   "cell_type": "markdown",
   "metadata": {
    "slideshow": null
   },
   "source": [
    "With the default cutoff, there should be no valid parties on the first page.  Adjust the cutoff date to check that it is actually working."
   ]
  },
  {
   "cell_type": "code",
   "execution_count": 15,
   "metadata": {
    "slideshow": null
   },
   "outputs": [
    {
     "data": {
      "text/plain": [
       "True"
      ]
     },
     "execution_count": 15,
     "metadata": {},
     "output_type": "execute_result"
    }
   ],
   "source": [
    "# Double check the dates are being extracted correctly\n",
    "grader.check(len(filter_by_date(get_links(page_response))) == 0)"
   ]
  },
  {
   "cell_type": "markdown",
   "metadata": {
    "slideshow": null
   },
   "source": [
    "Now we should be ready to get all of the party URLs.  Click through a few of the index pages to determine how the URL changes.  Figure out a strategy to visit all of them.\n",
    "\n",
    "HTTP requests are generally IO-bound.  This means that most of the time is spent waiting for the remote server to respond.  If you use `requests` directly, you can only wait on one response at a time.  [requests-futures](https://github.com/ross/requests-futures) lets you wait for multiple requests at a time.  You may wish to use this to speed up the downloading process."
   ]
  },
  {
   "cell_type": "markdown",
   "metadata": {
    "slideshow": null
   },
   "source": [
    "In the end, you should have 1193 parties."
   ]
  },
  {
   "cell_type": "markdown",
   "metadata": {
    "slideshow": null
   },
   "source": [
    "In case we need to restart the notebook, we should save this information to a file.  There are many ways you could do this; here's one using `dill`."
   ]
  },
  {
   "cell_type": "markdown",
   "metadata": {
    "slideshow": null
   },
   "source": [
    "To restore the list, we can just load it from the file.  When the notebook is restarted, you can skip the code above and just run this command."
   ]
  },
  {
   "cell_type": "markdown",
   "metadata": {
    "slideshow": null
   },
   "source": [
    "## Question 1: histogram\n"
   ]
  },
  {
   "cell_type": "markdown",
   "metadata": {
    "slideshow": null
   },
   "source": [
    "Get the number of party pages for the 95 months (that is, month-year pair) in the data.  Represent this histogram as a list of 95 tuples, each of the form `(\"Dec-2014\", 1)`.  Note that you can convert `datetime` objects into these sort of strings with `strftime` and the [format codes for dates](https://docs.python.org/3/library/datetime.html#strftime-and-strptime-behavior).\n",
    "\n",
    "Plot the histogram for yourself.  Do you see any trends?"
   ]
  },
  {
   "cell_type": "code",
   "execution_count": 22,
   "metadata": {},
   "outputs": [
    {
     "name": "stdout",
     "output_type": "stream",
     "text": [
      "[datetime.datetime(2014, 12, 1, 0, 0), datetime.datetime(2014, 11, 24, 0, 0), datetime.datetime(2014, 11, 20, 0, 0), datetime.datetime(2014, 11, 18, 0, 0), datetime.datetime(2014, 11, 17, 0, 0)]\n",
      "['Dec-14', 'Nov-14', 'Nov-14', 'Nov-14', 'Nov-14']\n",
      "Length of both party & formatted MMM-YY dates = 1193\n"
     ]
    }
   ],
   "source": [
    "party_dates = []\n",
    "formatted_party_dates = []\n",
    "\n",
    "for i in filtered_links_list:\n",
    "    party_dates.append(i[1])\n",
    "\n",
    "print(party_dates[:5])\n",
    "\n",
    "for j in party_dates:\n",
    "    formatted_party_dates.append(j.strftime('%b-%y'))\n",
    "\n",
    "print(formatted_party_dates[:5])\n",
    "\n",
    "if len(party_dates) == len(formatted_party_dates):\n",
    "    print(f\"Length of both party & formatted MMM-YY dates = {len(party_dates)}\")\n",
    "else:\n",
    "    print(\"Something may be wrong! Investigate\")"
   ]
  },
  {
   "cell_type": "code",
   "execution_count": 23,
   "metadata": {},
   "outputs": [
    {
     "name": "stdout",
     "output_type": "stream",
     "text": [
      "[('Dec-14', 1), ('Nov-14', 10), ('Oct-14', 9), ('Sep-14', 5), ('Aug-14', 6), ('Jul-14', 10), ('Jun-14', 10), ('May-14', 12), ('Apr-14', 8), ('Mar-14', 11)]\n"
     ]
    }
   ],
   "source": [
    "from collections import Counter\n",
    "\n",
    "histogram = list(Counter(formatted_party_dates).items())\n",
    "print(histogram[:10])"
   ]
  },
  {
   "cell_type": "code",
   "execution_count": 24,
   "metadata": {},
   "outputs": [
    {
     "data": {
      "image/png": "[encoded data removed]",
      "text/plain": [
       "<Figure size 864x360 with 1 Axes>"
      ]
     },
     "metadata": {},
     "output_type": "display_data"
    }
   ],
   "source": [
    "import matplotlib.pyplot as plt\n",
    "\n",
    "plt.rcParams[\"figure.figsize\"] = [12, 5]\n",
    "plt.rcParams[\"figure.autolayout\"] = True\n",
    "\n",
    "date_indx = []\n",
    "count_freq = []\n",
    "\n",
    "def sorting_by_date(record):\n",
    "    return datetime.strptime(record[0], '%b-%y')\n",
    "\n",
    "histogram_sorted = sorted(histogram, key=sorting_by_date)\n",
    "\n",
    "for el in histogram_sorted:\n",
    "    date_indx.append(el[0])\n",
    "    count_freq.append(el[1])\n",
    "\n",
    "plt.bar(date_indx, count_freq)\n",
    "plt.xticks(rotation=90, fontsize = 8)\n",
    "plt.show()"
   ]
  },
  {
   "cell_type": "code",
   "execution_count": null,
   "metadata": {
    "slideshow": null
   },
   "outputs": [],
   "source": [
    "# histogram = [(\"Dec-2014\", 1)] * 95  # Replace this fake answer with your real results"
   ]
  },
  {
   "cell_type": "code",
   "execution_count": 25,
   "metadata": {
    "slideshow": null
   },
   "outputs": [
    {
     "name": "stdout",
     "output_type": "stream",
     "text": [
      "==================\n",
      "Your score: 1.0000\n",
      "==================\n"
     ]
    }
   ],
   "source": [
    "grader.score('graph__histogram', histogram)"
   ]
  },
  {
   "cell_type": "markdown",
   "metadata": {
    "slideshow": null
   },
   "source": [
    "## Phase Two\n"
   ]
  },
  {
   "cell_type": "markdown",
   "metadata": {
    "slideshow": null
   },
   "source": [
    "In this phase, we concentrate on getting the names out of captions for a given page.  We'll start with [the benefit cocktails and dinner](https://web.archive.org/web/20150913224145/http://www.newyorksocialdiary.com/party-pictures/2015/celebrating-the-neighborhood) for [Lenox Hill Neighborhood House](http://www.lenoxhill.org/), a neighborhood organization for the East Side.\n",
    "\n",
    "Take a look at that page.  Note that some of the text on the page is captions, but others are descriptions of the event.  Determine how to select only the captions."
   ]
  },
  {
   "cell_type": "markdown",
   "metadata": {
    "slideshow": null
   },
   "source": [
    "By our count, there are about 110.  But if you're off by a couple, you're probably okay."
   ]
  },
  {
   "cell_type": "markdown",
   "metadata": {
    "slideshow": null
   },
   "source": [
    "Let's encapsulate this in a function.  As with the links pages, we want to avoid downloading a given page the next time we need to run the notebook.  While we could save the files by hand, as we did before, a checkpoint library like [ediblepickle](https://pypi.python.org/pypi/ediblepickle/1.1.3) can handle this for you.  (Note, though, that you may not want to enable this until you are sure that your function is working.)\n",
    "\n",
    "You should also keep in mind that HTTP requests fail occasionally, for transient reasons.  You should plan how to detect and react to these failures.   The [retrying module](https://pypi.python.org/pypi/retrying) is one way to deal with this."
   ]
  },
  {
   "cell_type": "markdown",
   "metadata": {
    "slideshow": null
   },
   "source": [
    "This should get the same captions as before."
   ]
  },
  {
   "cell_type": "markdown",
   "metadata": {
    "slideshow": null
   },
   "source": [
    "Now that we have some sample captions, let's start parsing names out of those captions.  There are many ways of going about this, and we leave the details up to you.  Some issues to consider:\n",
    "\n",
    "  1. Some captions are not useful: they contain long narrative texts that explain the event.  Try to find some heuristic rules to separate captions that are a list of names from those that are not.  A few heuristics include:\n",
    "    - Look for sentences (which have verbs) and as opposed to lists of nouns. For example, [`nltk` does part of speech tagging](http://www.nltk.org/book/ch05.html) but it is a little slow. There may also be heuristics that accomplish the same thing.\n",
    "    - Similarly, spaCy's [entity recognition](https://spacy.io/docs/usage/entity-recognition) could be useful here, but like `nltk` using `spaCy` will add to processing time.\n",
    "    - Look for commonly repeated threads (e.g. you might end up picking up the photo credits or people such as \"a friend\").\n",
    "    - Long captions are often not lists of people.  The cutoff is subjective, but for grading purposes *we set that cutoff at 250 characters*.\n",
    "  2. You will want to separate the captions based on various forms of punctuation.  Try using `re.split`, which is more sophisticated than `string.split`. **Note**: The reference solution uses regex exclusively for name parsing.\n",
    "  3. You might find a person named \"ra Lebenthal\".  There is no one by this name.  Can anyone spot what's happening here?\n",
    "  4. This site is pretty formal and likes to say things like \"Mayor Michael Bloomberg\" after his election but \"Michael Bloomberg\" before his election.  Can you find other ('optional') titles that are being used?  They should probably be filtered out because they ultimately refer to the same person: \"Michael Bloomberg.\"\n",
    "  5. There is a special case you might find where couples are written as e.g. \"John and Mary Smith\". You will need to write some extra logic to make sure this properly parses to two names: \"John Smith\" and \"Mary Smith\".\n",
    "  6. When parsing names from captions, it can help to look at your output frequently and address the problems that you see coming up, iterating until you have a list that looks reasonable. This is the approach used in the reference solution. Because we can only asymptotically approach perfect identification and entity matching, we have to stop somewhere.\n",
    "  \n",
    "**Questions worth considering:**\n",
    "  1. Who is Patrick McMullan and should he be included in the results? How would you address this?\n",
    "  2. What else could you do to improve the quality of the graph's information?"
   ]
  },
  {
   "cell_type": "markdown",
   "metadata": {
    "slideshow": null
   },
   "source": [
    "## Question 2: sample_names\n"
   ]
  },
  {
   "cell_type": "markdown",
   "metadata": {
    "slideshow": null
   },
   "source": [
    "Once you feel that your algorithm is working well on these captions, parse all of the captions and extract all the names mentioned.  Sort them alphabetically, by first name, and return the first hundred."
   ]
  },
  {
   "cell_type": "code",
   "execution_count": 34,
   "metadata": {},
   "outputs": [],
   "source": [
    "import spacy\n",
    "nlp = spacy.load('en_core_web_sm')"
   ]
  },
  {
   "cell_type": "code",
   "execution_count": 35,
   "metadata": {},
   "outputs": [],
   "source": [
    "def spacy_parse_string(party_string):\n",
    "    doc = nlp(party_string)\n",
    "    \n",
    "    list_of_names = [ent.text for ent in doc.ents if ent.label_=='PERSON']\n",
    "    \n",
    "    for ind in range(len(list_of_names)-2,-1,-1):\n",
    "        if len(list_of_names[ind].split(\" \")) == 1 and len(list_of_names[ind+1].split(\" \")) !=1:\n",
    "            list_of_names[ind] = list_of_names[ind] +  \" \" + list_of_names[ind+1].split(\" \")[1]\n",
    "    \n",
    "    return list_of_names"
   ]
  },
  {
   "cell_type": "code",
   "execution_count": 36,
   "metadata": {},
   "outputs": [
    {
     "name": "stdout",
     "output_type": "stream",
     "text": [
      "110\n",
      "<class 'list'>\n"
     ]
    },
    {
     "data": {
      "text/plain": [
       "[['Glenn Adamson',\n",
       "  'Simon Doonan',\n",
       "  'Victoire de Castellane',\n",
       "  'Craig Leavitt',\n",
       "  'Jerome Chazen',\n",
       "  'Andi Potamkin',\n",
       "  'Ralph Pucci',\n",
       "  'Kirsten Bailey',\n",
       "  'Edwin Hathaway',\n",
       "  'Dennis Freedman'],\n",
       " [],\n",
       " ['Christopher Spitzmiller'],\n",
       " ['Christopher Spitzmiller', 'Diana Quasha'],\n",
       " ['Mariam Azarm', 'Sana Sabbagh', 'Lynette Dallas'],\n",
       " ['Christopher Spitzmiller', 'Sydney Shuman', 'Matthew Bees'],\n",
       " ['Christopher Spitzmiller', 'Tom Edelman'],\n",
       " ['Sydney Shuman'],\n",
       " ['Sean McAndrew'],\n",
       " ['Sydney Shuman', 'Mario Buatta', 'Helene Tilney']]"
      ]
     },
     "execution_count": 36,
     "metadata": {},
     "output_type": "execute_result"
    }
   ],
   "source": [
    "names = [s for s in captions_list]\n",
    "\n",
    "n = []\n",
    "\n",
    "for name in names:\n",
    "    n.append(spacy_parse_string(name))\n",
    "\n",
    "print(len(n))\n",
    "print(type(n))\n",
    "n[:10]"
   ]
  },
  {
   "cell_type": "code",
   "execution_count": 37,
   "metadata": {},
   "outputs": [
    {
     "name": "stdout",
     "output_type": "stream",
     "text": [
      "185\n",
      "<class 'list'>\n"
     ]
    },
    {
     "data": {
      "text/plain": [
       "['Glenn Adamson',\n",
       " 'Simon Doonan',\n",
       " 'Victoire de Castellane',\n",
       " 'Craig Leavitt',\n",
       " 'Jerome Chazen',\n",
       " 'Andi Potamkin',\n",
       " 'Ralph Pucci',\n",
       " 'Kirsten Bailey',\n",
       " 'Edwin Hathaway',\n",
       " 'Dennis Freedman',\n",
       " 'Christopher Spitzmiller',\n",
       " 'Christopher Spitzmiller',\n",
       " 'Diana Quasha',\n",
       " 'Mariam Azarm',\n",
       " 'Sana Sabbagh',\n",
       " 'Lynette Dallas',\n",
       " 'Christopher Spitzmiller',\n",
       " 'Sydney Shuman',\n",
       " 'Matthew Bees',\n",
       " 'Christopher Spitzmiller']"
      ]
     },
     "execution_count": 37,
     "metadata": {},
     "output_type": "execute_result"
    }
   ],
   "source": [
    "sample_names = []\n",
    "\n",
    "for i in range(len(n)):\n",
    "    for j in n[i]:\n",
    "        sample_names.append(j)\n",
    "\n",
    "print(len(sample_names))\n",
    "print(type(sample_names))\n",
    "sample_names[:20]"
   ]
  },
  {
   "cell_type": "code",
   "execution_count": 38,
   "metadata": {},
   "outputs": [
    {
     "name": "stdout",
     "output_type": "stream",
     "text": [
      "<class 'numpy.ndarray'>\n",
      "<class 'list'>\n",
      "['Alberto Villalobos', 'Alex Papachristidis', 'Alexandra Richards', 'Alexis Mersentes', 'Allen Swerdlick', 'Allison Minton', 'Andi Potamkin', 'Angela Clofine', 'Anne Strickland', 'Barbara  ', 'Barbara Regna', 'Barbara Tober', 'Ben Needell Esq', 'Bette Midler', 'Bjorn Wallander', 'C. Virginia Fields', 'Celia Morrissette', 'Chele Farley', 'Christopher Spitzmiller', 'Clark Munnell']\n"
     ]
    }
   ],
   "source": [
    "import numpy as np\n",
    "\n",
    "sample_names_sorted =np.sort(sample_names)\n",
    "sample_names_sorted = np.unique(sample_names_sorted)\n",
    "sample_names_sorted_100 = sample_names_sorted[0:100]\n",
    "print(type(sample_names_sorted_100))\n",
    "\n",
    "# converting to list\n",
    "sample_names_sorted_100_list = sample_names_sorted_100.tolist()\n",
    "print(type(sample_names_sorted_100_list))\n",
    "print(sample_names_sorted_100_list [:20])"
   ]
  },
  {
   "cell_type": "code",
   "execution_count": 39,
   "metadata": {},
   "outputs": [
    {
     "name": "stdout",
     "output_type": "stream",
     "text": [
      "100\n",
      "<class 'list'>\n"
     ]
    }
   ],
   "source": [
    "print(len(sample_names_sorted_100_list))\n",
    "print(type(sample_names_sorted_100_list))"
   ]
  },
  {
   "cell_type": "code",
   "execution_count": 40,
   "metadata": {
    "slideshow": null
   },
   "outputs": [
    {
     "name": "stdout",
     "output_type": "stream",
     "text": [
      "==================\n",
      "Your score: 0.9700\n",
      "==================\n"
     ]
    }
   ],
   "source": [
    "# sample_names = [\"Caroline Dean\"] * 100\n",
    "\n",
    "grader.score('graph__sample_names', sample_names_sorted_100_list)"
   ]
  },
  {
   "cell_type": "markdown",
   "metadata": {
    "slideshow": null
   },
   "source": [
    "Now, run this sort of test on a few other pages.  You will probably find that other pages have a slightly different HTML structure, as well as new captions that trip up your caption parser.  But don't worry if the parser isn't perfect -- just try to get the easy cases."
   ]
  },
  {
   "cell_type": "markdown",
   "metadata": {
    "slideshow": null
   },
   "source": [
    "## Phase Three\n"
   ]
  },
  {
   "cell_type": "markdown",
   "metadata": {
    "slideshow": null
   },
   "source": [
    "Once you are satisfied that your caption scraper and parser are working, run this for all of the pages.  If you haven't implemented some caching of the captions, you probably want to do this first."
   ]
  },
  {
   "cell_type": "markdown",
   "metadata": {
    "slideshow": null
   },
   "source": [
    "For the remaining analysis, we think of the problem in terms of a\n",
    "[network](http://en.wikipedia.org/wiki/Computer_network) or a\n",
    "[graph](https://en.wikipedia.org/wiki/Graph_%28discrete_mathematics%29).  Any time a pair of people appear in a photo together, that is considered a link.  What we have described is more appropriately called an (undirected)\n",
    "[multigraph](http://en.wikipedia.org/wiki/Multigraph) with no self-loops, but this has an obvious analog in terms of an undirected [weighted graph](http://en.wikipedia.org/wiki/Graph_%28mathematics%29#Weighted_graph).  \n",
    "\n",
    "In the remainder of this miniproject, we will analyze the social graph of the New York social elite.  We recommend using python's [`networkx`](https://networkx.github.io/) library to build this social graph."
   ]
  },
  {
   "cell_type": "markdown",
   "metadata": {
    "slideshow": null
   },
   "source": [
    "All in all, you should end up with over 100,000 captions and more than 110,000 names, connected in about 200,000 pairs.\n",
    "\n",
    "**Note:** If you have a significantly smaller number of names or name pairs, verify that you are correctly identifying the caption(s) from each party page.  Are there some pages where your methods return no names?  Examine those pages more closely to determine why that is the case and modify your methods appropriately.  "
   ]
  },
  {
   "cell_type": "markdown",
   "metadata": {
    "slideshow": null
   },
   "source": [
    "## Question 3: degree\n"
   ]
  },
  {
   "cell_type": "markdown",
   "metadata": {},
   "source": [
    "..."
   ]
  },
  {
   "cell_type": "markdown",
   "metadata": {
    "slideshow": null
   },
   "source": [
    "## Question 4: PageRank\n"
   ]
  },
  {
   "cell_type": "markdown",
   "metadata": {},
   "source": [
    "..."
   ]
  },
  {
   "cell_type": "markdown",
   "metadata": {
    "slideshow": null
   },
   "source": [
    "## Question 5: best_friends\n"
   ]
  },
  {
   "cell_type": "markdown",
   "metadata": {},
   "source": [
    "..."
   ]
  },
  {
   "cell_type": "markdown",
   "metadata": {
    "slideshow": null
   },
   "source": [
    "*Copyright &copy; 2022 Pragmatic Institute. This content is licensed solely for personal use. Redistribution or publication of this material in whole is strictly prohibited.*"
   ]
  }
 ],
 "metadata": {
  "kernelspec": {
   "display_name": "Python 3 (ipykernel)",
   "language": "python",
   "name": "python3"
  },
  "language_info": {
   "codemirror_mode": {
    "name": "ipython",
    "version": 3
   },
   "file_extension": ".py",
   "mimetype": "text/x-python",
   "name": "python",
   "nbconvert_exporter": "python",
   "pygments_lexer": "ipython3",
   "version": "3.9.7"
  },
  "nbclean": true
 },
 "nbformat": 4,
 "nbformat_minor": 4
}
