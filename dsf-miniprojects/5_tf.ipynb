{
 "cells": [
  {
   "cell_type": "markdown",
   "metadata": {
    "slideshow": null
   },
   "source": [
    "# Image Classification with TensorFlow"
   ]
  },
  {
   "cell_type": "markdown",
   "metadata": {
    "slideshow": null
   },
   "source": [
    "Image classification is a common task for deep learning and neural networks.  The raw features coming in are the pixel values.  These are simple enough to deal with, but it is difficult to connect pixel values to determining whether an image is of a cat.  Older methods used a lot of clever filters, but the current best-of-breed algorithms simply throw a lot of linear algebra at the problem.\n",
    "\n",
    "In this miniproject, you build a series of models to classify a series of images into one of ten classes. For expediency, these images are pretty small ($32\\times32\\times3$).  This can make classification a bit tricky&mdash;human performance is only about 94%.  Each of your models will be scored by comparing its accuracy to the accuracy of a reference model that we developed.  A score of 1 indicates that your model performs as well as the reference model; not that your accuracy is 100%!\n",
    "\n",
    "You will be given both a training set and a validation set.  Ground truth values are provided for the training set.  You should train your models on this set, and then make predictions for each of the validation images.  These predictions will be submitted to the grader."
   ]
  },
  {
   "cell_type": "markdown",
   "metadata": {
    "slideshow": null
   },
   "source": [
    "## A note on scoring"
   ]
  },
  {
   "cell_type": "markdown",
   "metadata": {
    "slideshow": null
   },
   "source": [
    "It **is** possible to score above 1 on these questions. This indicates that you've beaten our reference model&mdash;we compare our model's score on a test set to your score on a test set. See how high you can go!"
   ]
  },
  {
   "cell_type": "markdown",
   "metadata": {
    "slideshow": null
   },
   "source": [
    "## Downloading the data"
   ]
  },
  {
   "cell_type": "markdown",
   "metadata": {
    "slideshow": null
   },
   "source": [
    "We will be using the `CIFAR-10` data set.  It consists of 60,000 images, each $32\\times32$ color pixels, each belonging to one of ten classes.  The following cell will download the data, in NumPy's `.npy` format."
   ]
  },
  {
   "cell_type": "markdown",
   "metadata": {
    "slideshow": null
   },
   "source": [
    "We can load in the data like so:"
   ]
  },
  {
   "cell_type": "code",
   "execution_count": 4,
   "metadata": {
    "slideshow": null
   },
   "outputs": [],
   "source": [
    "import numpy as np\n",
    "import gzip\n",
    "\n",
    "train_images = np.load(gzip.open('train_images.npy.gz', 'rb'))\n",
    "train_labels = np.load(gzip.open('train_labels.npy.gz', 'rb'))\n",
    "validation_images = np.load(gzip.open('validation_images.npy.gz', 'rb'))"
   ]
  },
  {
   "cell_type": "markdown",
   "metadata": {
    "slideshow": null
   },
   "source": [
    "The images are stored as four-dimensional arrays.  The first index indicates the image number, the second and third the $x$ and $y$ positions, and the fourth index the color channel.  Each pixel color is a floating point number between 0 and 1.  This convention allows us to view the images with matplotlib:"
   ]
  },
  {
   "cell_type": "code",
   "execution_count": 5,
   "metadata": {
    "slideshow": null
   },
   "outputs": [
    {
     "data": {
      "text/plain": [
       "<matplotlib.image.AxesImage at 0x7f3be99d06a0>"
      ]
     },
     "execution_count": 5,
     "metadata": {},
     "output_type": "execute_result"
    },
    {
     "data": {
      "image/png": "[encoded data removed]",
      "text/plain": [
       "<Figure size 432x288 with 1 Axes>"
      ]
     },
     "metadata": {},
     "output_type": "display_data"
    }
   ],
   "source": [
    "import matplotlib.pyplot\n",
    "matplotlib.pyplot.rcParams[\"axes.grid\"] = False  #  Remove the grid lines from the image.\n",
    "matplotlib.pyplot.imshow(train_images[0])"
   ]
  },
  {
   "cell_type": "markdown",
   "metadata": {
    "slideshow": null
   },
   "source": [
    "The classes have already been numbered 0-9 for us; those numbers are stored in the vector `train_labels`."
   ]
  },
  {
   "cell_type": "code",
   "execution_count": 6,
   "metadata": {
    "slideshow": null
   },
   "outputs": [
    {
     "data": {
      "text/plain": [
       "6"
      ]
     },
     "execution_count": 6,
     "metadata": {},
     "output_type": "execute_result"
    }
   ],
   "source": [
    "train_labels[0]"
   ]
  },
  {
   "cell_type": "markdown",
   "metadata": {
    "slideshow": null
   },
   "source": [
    "The human-readable names associated with this classes are"
   ]
  },
  {
   "cell_type": "code",
   "execution_count": 7,
   "metadata": {
    "slideshow": null
   },
   "outputs": [],
   "source": [
    "label_names = ['airplane', 'automobile', 'bird', 'cat', 'deer',\n",
    "               'dog', 'frog', 'horse', 'ship', 'truck']"
   ]
  },
  {
   "cell_type": "code",
   "execution_count": 8,
   "metadata": {
    "slideshow": null
   },
   "outputs": [
    {
     "data": {
      "text/plain": [
       "'frog'"
      ]
     },
     "execution_count": 8,
     "metadata": {},
     "output_type": "execute_result"
    }
   ],
   "source": [
    "label_names[train_labels[0]]"
   ]
  },
  {
   "cell_type": "markdown",
   "metadata": {
    "slideshow": null
   },
   "source": [
    "So we can see that the image above is a frog.  (Now you see it!)"
   ]
  },
  {
   "cell_type": "markdown",
   "metadata": {
    "slideshow": null
   },
   "source": [
    "# Questions"
   ]
  },
  {
   "cell_type": "markdown",
   "metadata": {
    "slideshow": null
   },
   "source": [
    "## Perceptual Delta"
   ]
  },
  {
   "cell_type": "markdown",
   "metadata": {
    "slideshow": null
   },
   "source": [
    "Since we already have a number of labeled images, a simple approach would be to measure the difference between two images, and choose the label corresponding to nearby images.  To do this, we need to develop a metric to determine the distance between two images.  We'll make the simplifying (and completely wrong) assumption that this is just the average difference between the colors of the corresponding pixels in the two images.\n",
    "\n",
    "While we could just take RMS difference of the red, green, and blue pixels, let's be slightly more sophisticated and look at human vision for a metric.  After all, we're pretty good at image classifications, so there might be some useful optimization here.\n",
    "\n",
    "It turns out that modeling human perception is [extraordinarily complicated](https://en.wikipedia.org/wiki/Color_difference#CIEDE2000).  We're going to use a [simplified model](https://www.compuphase.com/cmetric.htm):\n",
    "\n",
    "$$\\Delta C \\equiv \\sqrt{2 \\Delta R^2 + 4 \\Delta G^2 + 3 \\Delta B^2 + \\bar R\\left(\\Delta R^2 - \\Delta B^2 \\right)} $$\n",
    "where $(R_1, G_1, B_1)$ and $(R_2, G_2, B_2)$ are the RGB components of the two colors and\n",
    "$$\\begin{align}\n",
    "\\Delta R &= R_1 - R_2 \\\\\n",
    "\\Delta G &= G_1 - G_2 \\\\\n",
    "\\Delta B &= B_1 - B_2 \\\\\n",
    "\\bar R &= \\textstyle\\frac{1}{2}\\left(R_1 + R_2\\right)\n",
    "\\end{align}$$\n",
    "\n",
    "This accounts for the fact that our eyes are most sensitive to green and least sensitive to red, and that perception is not constant with hue.\n",
    "\n",
    "Build a graph that takes in a series of images, as well as a base image, and returns a result containing the $\\Delta C$ value (for each pixel) between the base image and each image in the series.  \n",
    "\n",
    "(Note that the intention here in our solution is that `images` will be a stack of images, while `base` is a single image.  Since the function is decorated with `tf.function` the computations within the function will be recorded in a computation graph and the output from this function will be a tensor.)"
   ]
  },
  {
   "cell_type": "code",
   "execution_count": 9,
   "metadata": {
    "slideshow": null
   },
   "outputs": [],
   "source": [
    "import tensorflow as tf\n",
    "\n",
    "@tf.function\n",
    "def delta_func(images, base):\n",
    "    dr = images[:, :, :, 0] - base[:, :, 0]\n",
    "    dg = images[:, :, :, 1] - base[:, :, 1]\n",
    "    db = images[:, :, :, 2] - base[:, :, 2]\n",
    "    rmean = (images[:, :, :, 0] + base[:, :, 0])/2\n",
    "\n",
    "    deltaC = (2*(dr**2) + 4*(dg**2) + 3*(db**2) + rmean*((dr**2) - (db**2)))**.5\n",
    "    return deltaC"
   ]
  },
  {
   "cell_type": "markdown",
   "metadata": {
    "slideshow": null
   },
   "source": [
    "As stated, for two images, $I_1$ and $I_2$, we define the distance between $I_1$ and $I_2$ as the average $\\Delta C$ value over the whole image, that is:\n",
    "\n",
    "$$d(I_1, I_2) = \\frac{1}{N}\\sum_{p_j} \\Delta C(p_j)$$\n",
    "where the sum is over all pixels $p_j$, $\\Delta C(p_2)$ is the $\\Delta C$ value for the pixel $p_j$, and $N$ is the total number of pixels in each image ($N= 32\\times 32$ in our case).\n",
    "\n",
    "Using `delta_func` compute the distance between the first validation image and all of the training images.\n",
    "\n",
    "**Checkpoint:** The mean value of the distances is 1.159, and the standard deviation of the distances is 0.182."
   ]
  },
  {
   "cell_type": "code",
   "execution_count": 10,
   "metadata": {
    "slideshow": null
   },
   "outputs": [
    {
     "name": "stderr",
     "output_type": "stream",
     "text": [
      "2022-03-03 20:01:07.393025: W tensorflow/core/framework/cpu_allocator_impl.cc:80] Allocation of 614400000 exceeds 10% of free system memory.\n",
      "2022-03-03 20:01:07.760081: W tensorflow/core/framework/cpu_allocator_impl.cc:80] Allocation of 614400000 exceeds 10% of free system memory.\n"
     ]
    }
   ],
   "source": [
    "deltas = delta_func(train_images, validation_images[0])"
   ]
  },
  {
   "cell_type": "code",
   "execution_count": 11,
   "metadata": {},
   "outputs": [],
   "source": [
    "distances = []\n",
    "\n",
    "for i in range(50000):\n",
    "    distances.append(np.mean(deltas[i]))"
   ]
  },
  {
   "cell_type": "markdown",
   "metadata": {
    "slideshow": null
   },
   "source": [
    "From these, find the 100 closest images from the training set to this first validation image.  (Note that `numpy.argsort` might help here.)  Submit a list of the indices of these images to the grader."
   ]
  },
  {
   "cell_type": "code",
   "execution_count": 12,
   "metadata": {},
   "outputs": [
    {
     "data": {
      "text/plain": [
       "array([27912, 23437, 47732, 25053, 29251,  3616, 43445,  5555, 46911,\n",
       "       16269])"
      ]
     },
     "execution_count": 12,
     "metadata": {},
     "output_type": "execute_result"
    }
   ],
   "source": [
    "indices = np.argsort(np.array(distances))[:100]\n",
    "indices[:10]"
   ]
  },
  {
   "cell_type": "code",
   "execution_count": 13,
   "metadata": {
    "slideshow": null
   },
   "outputs": [
    {
     "name": "stdout",
     "output_type": "stream",
     "text": [
      "==================\n",
      "Your score: 1.0000\n",
      "==================\n"
     ]
    }
   ],
   "source": [
    "# indices = [43234]*100\n",
    "\n",
    "grader.score('tf__perceptual_delta', indices)"
   ]
  },
  {
   "cell_type": "markdown",
   "metadata": {
    "slideshow": null
   },
   "source": [
    "**Extension:** What does this suggest about the proper class for this image?\n",
    "\n",
    "> **Aside:** Essentially, we've started to implement a $k$-nearest neighbors algorithm, using this perceptual distance as our metric.  If we ran the difference between all of the validation images and each of the training images, we could make a prediction from the nearest images for each.  Give it a try, if you're interested, but this miniproject is going to go in another direction."
   ]
  },
  {
   "cell_type": "markdown",
   "metadata": {
    "slideshow": null
   },
   "source": [
    "## Softmax model"
   ]
  },
  {
   "cell_type": "markdown",
   "metadata": {},
   "source": [
    "..."
   ]
  },
  {
   "cell_type": "markdown",
   "metadata": {
    "slideshow": null
   },
   "source": [
    "## Fully-connected model"
   ]
  },
  {
   "cell_type": "markdown",
   "metadata": {
    "slideshow": null
   },
   "source": [
    "Now, add a hidden layer to this network.  Train this network on the pixel values, and once again use it to predict the most likely class for each of the validation images.\n",
    "\n",
    "**Hints:**\n",
    "- We found that adding more layers didn't help too much.\n",
    "- Watch out for overfitting.  Dropout can help with this.\n",
    "- The reference solution achieves an accuracy of about 44% on a training set and 41% on a test set."
   ]
  },
  {
   "cell_type": "code",
   "execution_count": 18,
   "metadata": {},
   "outputs": [],
   "source": [
    "from tensorflow import keras"
   ]
  },
  {
   "cell_type": "code",
   "execution_count": 19,
   "metadata": {},
   "outputs": [],
   "source": [
    "X_train = [np.concatenate(np.concatenate(im)) for im in train_images]"
   ]
  },
  {
   "cell_type": "code",
   "execution_count": 20,
   "metadata": {},
   "outputs": [],
   "source": [
    "y_train = train_labels[:49000]\n",
    "\n",
    "X_t = np.asarray(X_train[:49000])\n",
    "\n",
    "X_test = np.asarray(X_train[49000:])\n",
    "y_test = train_labels[49000:]\n",
    "                          \n",
    "from tensorflow.keras.utils import to_categorical as one_hot\n",
    "\n",
    "y_train_hot = one_hot(y_train)\n",
    "y_test_hot = one_hot(y_test)\n",
    "                          \n",
    "\n",
    "N_PIXELS= 32 * 32 * 3\n",
    "N_CLASSES = 10\n",
    "\n",
    "hidden_size = 64"
   ]
  },
  {
   "cell_type": "code",
   "execution_count": 21,
   "metadata": {},
   "outputs": [],
   "source": [
    "model = keras.models.Sequential()\n",
    "\n",
    "model.add(\n",
    "    keras.layers.Dense(\n",
    "        hidden_size,\n",
    "        activation='sigmoid',\n",
    "        use_bias=True,  # The default\n",
    "        kernel_initializer=keras.initializers.TruncatedNormal(stddev=N_PIXELS**-0.5)\n",
    "    )\n",
    ")\n",
    "\n",
    "model.add(\n",
    "    keras.layers.Dense(\n",
    "        10,\n",
    "        activation='softmax',\n",
    "        kernel_initializer=keras.initializers.TruncatedNormal(stddev=hidden_size**-0.5)\n",
    "    )\n",
    ")\n",
    "\n",
    "\n",
    "model.compile(loss='categorical_crossentropy',\n",
    "              optimizer=keras.optimizers.SGD(learning_rate=0.5),\n",
    "              metrics=['accuracy'])"
   ]
  },
  {
   "cell_type": "code",
   "execution_count": 22,
   "metadata": {},
   "outputs": [
    {
     "name": "stdout",
     "output_type": "stream",
     "text": [
      "Epoch 1/30\n",
      "383/383 [==============================] - 2s 4ms/step - loss: 1.9731 - accuracy: 0.2835 - val_loss: 1.9252 - val_accuracy: 0.3230\n",
      "Epoch 2/30\n",
      "383/383 [==============================] - 1s 3ms/step - loss: 1.7962 - accuracy: 0.3583 - val_loss: 1.7564 - val_accuracy: 0.3900\n",
      "Epoch 3/30\n",
      "383/383 [==============================] - 1s 3ms/step - loss: 1.7234 - accuracy: 0.3835 - val_loss: 1.7241 - val_accuracy: 0.3900\n",
      "Epoch 4/30\n",
      "383/383 [==============================] - 1s 3ms/step - loss: 1.6716 - accuracy: 0.4055 - val_loss: 1.6895 - val_accuracy: 0.3940\n",
      "Epoch 5/30\n",
      "383/383 [==============================] - 1s 3ms/step - loss: 1.6258 - accuracy: 0.4193 - val_loss: 1.6519 - val_accuracy: 0.4120\n",
      "Epoch 6/30\n",
      "383/383 [==============================] - 1s 3ms/step - loss: 1.5993 - accuracy: 0.4313 - val_loss: 1.6315 - val_accuracy: 0.4180\n",
      "Epoch 7/30\n",
      "383/383 [==============================] - 1s 3ms/step - loss: 1.5732 - accuracy: 0.4397 - val_loss: 1.6308 - val_accuracy: 0.4130\n",
      "Epoch 8/30\n",
      "383/383 [==============================] - 1s 3ms/step - loss: 1.5450 - accuracy: 0.4497 - val_loss: 1.5779 - val_accuracy: 0.4410\n",
      "Epoch 9/30\n",
      "383/383 [==============================] - 1s 3ms/step - loss: 1.5237 - accuracy: 0.4578 - val_loss: 1.6402 - val_accuracy: 0.4270\n",
      "Epoch 10/30\n",
      "383/383 [==============================] - 1s 3ms/step - loss: 1.5055 - accuracy: 0.4643 - val_loss: 1.5418 - val_accuracy: 0.4600\n",
      "Epoch 11/30\n",
      "383/383 [==============================] - 1s 3ms/step - loss: 1.4865 - accuracy: 0.4711 - val_loss: 1.5582 - val_accuracy: 0.4470\n",
      "Epoch 12/30\n",
      "383/383 [==============================] - 1s 3ms/step - loss: 1.4767 - accuracy: 0.4735 - val_loss: 1.5478 - val_accuracy: 0.4500\n",
      "Epoch 13/30\n",
      "383/383 [==============================] - 1s 3ms/step - loss: 1.4654 - accuracy: 0.4785 - val_loss: 1.4772 - val_accuracy: 0.4610\n",
      "Epoch 14/30\n",
      "383/383 [==============================] - 1s 3ms/step - loss: 1.4544 - accuracy: 0.4806 - val_loss: 1.4691 - val_accuracy: 0.4740\n",
      "Epoch 15/30\n",
      "383/383 [==============================] - 1s 3ms/step - loss: 1.4404 - accuracy: 0.4871 - val_loss: 1.6022 - val_accuracy: 0.4300\n",
      "Epoch 16/30\n",
      "383/383 [==============================] - 1s 3ms/step - loss: 1.4351 - accuracy: 0.4902 - val_loss: 1.5034 - val_accuracy: 0.4620\n",
      "Epoch 17/30\n",
      "383/383 [==============================] - 1s 3ms/step - loss: 1.4221 - accuracy: 0.4933 - val_loss: 1.5017 - val_accuracy: 0.4520\n",
      "Epoch 18/30\n",
      "383/383 [==============================] - 1s 3ms/step - loss: 1.4137 - accuracy: 0.4964 - val_loss: 1.4981 - val_accuracy: 0.4510\n",
      "Epoch 19/30\n",
      "383/383 [==============================] - 1s 3ms/step - loss: 1.4021 - accuracy: 0.5021 - val_loss: 1.5575 - val_accuracy: 0.4500\n",
      "Epoch 20/30\n",
      "383/383 [==============================] - 1s 3ms/step - loss: 1.3969 - accuracy: 0.5028 - val_loss: 1.4764 - val_accuracy: 0.4690\n",
      "Epoch 21/30\n",
      "383/383 [==============================] - 1s 3ms/step - loss: 1.3865 - accuracy: 0.5086 - val_loss: 1.4894 - val_accuracy: 0.4710\n",
      "Epoch 22/30\n",
      "383/383 [==============================] - 1s 3ms/step - loss: 1.3818 - accuracy: 0.5103 - val_loss: 1.4915 - val_accuracy: 0.4540\n",
      "Epoch 23/30\n",
      "383/383 [==============================] - 1s 3ms/step - loss: 1.3710 - accuracy: 0.5121 - val_loss: 1.4912 - val_accuracy: 0.4640\n",
      "Epoch 24/30\n",
      "383/383 [==============================] - 1s 3ms/step - loss: 1.3640 - accuracy: 0.5172 - val_loss: 1.4993 - val_accuracy: 0.4760\n",
      "Epoch 25/30\n",
      "383/383 [==============================] - 1s 3ms/step - loss: 1.3595 - accuracy: 0.5162 - val_loss: 1.4432 - val_accuracy: 0.4790\n",
      "Epoch 26/30\n",
      "383/383 [==============================] - 1s 3ms/step - loss: 1.3493 - accuracy: 0.5219 - val_loss: 1.4893 - val_accuracy: 0.4610\n",
      "Epoch 27/30\n",
      "383/383 [==============================] - 1s 3ms/step - loss: 1.3502 - accuracy: 0.5190 - val_loss: 1.4849 - val_accuracy: 0.4650\n",
      "Epoch 28/30\n",
      "383/383 [==============================] - 1s 3ms/step - loss: 1.3392 - accuracy: 0.5253 - val_loss: 1.4329 - val_accuracy: 0.4750\n",
      "Epoch 29/30\n",
      "383/383 [==============================] - 1s 3ms/step - loss: 1.3306 - accuracy: 0.5273 - val_loss: 1.5763 - val_accuracy: 0.4610\n",
      "Epoch 30/30\n",
      "383/383 [==============================] - 1s 3ms/step - loss: 1.3206 - accuracy: 0.5314 - val_loss: 1.4905 - val_accuracy: 0.4760\n"
     ]
    }
   ],
   "source": [
    "history = model.fit(X_t, y_train_hot,\n",
    "                    epochs=30,\n",
    "                    batch_size=128,\n",
    "                    validation_data=(X_test,y_test_hot))"
   ]
  },
  {
   "cell_type": "code",
   "execution_count": 23,
   "metadata": {},
   "outputs": [],
   "source": [
    "val = [np.concatenate(np.concatenate(im)) for im in validation_images]"
   ]
  },
  {
   "cell_type": "code",
   "execution_count": 24,
   "metadata": {},
   "outputs": [],
   "source": [
    "predicted_classes = list(np.argmax(model.predict(np.asarray(val)),axis=1))"
   ]
  },
  {
   "cell_type": "code",
   "execution_count": 25,
   "metadata": {
    "slideshow": null
   },
   "outputs": [
    {
     "name": "stdout",
     "output_type": "stream",
     "text": [
      "==================\n",
      "Your score: 1.2768\n",
      "==================\n"
     ]
    }
   ],
   "source": [
    "# predicted_classes = [0]*len(validation_images)\n",
    "\n",
    "grader.score('tf__fully_connected', predicted_classes)"
   ]
  },
  {
   "cell_type": "markdown",
   "metadata": {
    "slideshow": null
   },
   "source": [
    "## Convolutional model"
   ]
  },
  {
   "cell_type": "markdown",
   "metadata": {},
   "source": [
    "..."
   ]
  },
  {
   "cell_type": "markdown",
   "metadata": {
    "slideshow": null
   },
   "source": [
    "## Transfer learning"
   ]
  },
  {
   "cell_type": "markdown",
   "metadata": {},
   "source": [
    "..."
   ]
  },
  {
   "cell_type": "markdown",
   "metadata": {
    "slideshow": null
   },
   "source": [
    "*Copyright &copy; 2022 Pragmatic Institute. This content is licensed solely for personal use. Redistribution or publication of this material in whole is strictly prohibited.*"
   ]
  }
 ],
 "metadata": {
  "kernelspec": {
   "display_name": "Python 3 (ipykernel)",
   "language": "python",
   "name": "python3"
  },
  "language_info": {
   "codemirror_mode": {
    "name": "ipython",
    "version": 3
   },
   "file_extension": ".py",
   "mimetype": "text/x-python",
   "name": "python",
   "nbconvert_exporter": "python",
   "pygments_lexer": "ipython3",
   "version": "3.9.7"
  },
  "nbclean": true
 },
 "nbformat": 4,
 "nbformat_minor": 4
}
